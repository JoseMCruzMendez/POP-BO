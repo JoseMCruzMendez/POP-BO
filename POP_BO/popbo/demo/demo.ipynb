{
 "cells": [
  {
   "cell_type": "markdown",
   "id": "d275648e",
   "metadata": {},
   "source": [
    "# Demonstration of our algorithm running over a sampled instance from Gaussian process with one dimensional input."
   ]
  },
  {
   "cell_type": "markdown",
   "id": "3167c407",
   "metadata": {},
   "source": [
    "## import relevant packages"
   ]
  },
  {
   "cell_type": "code",
   "id": "457df3b8",
   "metadata": {
    "ExecuteTime": {
     "end_time": "2025-06-17T19:21:30.843415Z",
     "start_time": "2025-06-17T19:21:30.749198Z"
    }
   },
   "source": [
    "import sys\n",
    "sys.path.append('..')\n",
    "import POP_BO.popbo.util as util\n",
    "from POP_BO.popbo import POPBO\n",
    "import POP_BO.popbo.Oracles as sigma\n",
    "import numpy as np\n",
    "from matplotlib import pyplot as plt\n",
    "%load_ext autoreload\n",
    "%autoreload 2"
   ],
   "outputs": [
    {
     "name": "stdout",
     "output_type": "stream",
     "text": [
      "The autoreload extension is already loaded. To reload it, use:\n",
      "  %reload_ext autoreload\n"
     ]
    }
   ],
   "execution_count": 3
  },
  {
   "cell_type": "markdown",
   "id": "b84678e9",
   "metadata": {},
   "source": [
    "## Construct the problem configurations"
   ]
  },
  {
   "cell_type": "code",
   "id": "3103c2bd",
   "metadata": {
    "ExecuteTime": {
     "end_time": "2025-06-17T19:21:30.891850Z",
     "start_time": "2025-06-17T19:21:30.861270Z"
    }
   },
   "source": [
    "np.random.seed(3)\n",
    "config = util.get_config('GP_sample_func', problem_dim=1)\n",
    "popbo = POPBO(config, y_lb=-5, y_ub=5)\n",
    "f = config['obj']"
   ],
   "outputs": [
    {
     "name": "stdout",
     "output_type": "stream",
     "text": [
      "[[ 2.53142993]\n",
      " [ 0.31744681]\n",
      " [ 0.2812075 ]\n",
      " [ 2.86324211]\n",
      " [-0.50206966]\n",
      " [-0.52029318]\n",
      " [-1.32332505]\n",
      " [-0.30103314]\n",
      " [-2.55538644]\n",
      " [ 2.41711339]]\n",
      "  \u001B[1mindex\u001B[0;0m  |  rbf.lengthscale  |  constraints  |  priors\n",
      "  \u001B[1m[0]  \u001B[0;0m  |       1.00000000  |      +ve      |        \n"
     ]
    }
   ],
   "execution_count": 4
  },
  {
   "cell_type": "markdown",
   "id": "d7ee92d5",
   "metadata": {},
   "source": [
    "## Initialize the algorithm"
   ]
  },
  {
   "cell_type": "code",
   "id": "73683b24",
   "metadata": {
    "ExecuteTime": {
     "end_time": "2025-06-17T19:21:31.125432Z",
     "start_time": "2025-06-17T19:21:30.951635Z"
    }
   },
   "source": [
    "x_prime = [np.random.rand()]\n",
    "x = popbo.query_new_point(x_prime=x_prime)"
   ],
   "outputs": [
    {
     "name": "stdout",
     "output_type": "stream",
     "text": [
      "\n",
      "******************************************************************************\n",
      "This program contains Ipopt, a library for large-scale nonlinear optimization.\n",
      " Ipopt is released as open source code under the Eclipse Public License (EPL).\n",
      "         For more information visit https://github.com/coin-or/Ipopt\n",
      "******************************************************************************\n",
      "\n",
      "[7.16844106] with opt improvement 6.348864544866224, real 6.3488647186567615\n"
     ]
    }
   ],
   "execution_count": 5
  },
  {
   "cell_type": "markdown",
   "id": "e8021ace",
   "metadata": {},
   "source": [
    "## repeatedly and interatively run the following block to see how our algorithm works"
   ]
  },
  {
   "cell_type": "code",
   "id": "421263de",
   "metadata": {
    "scrolled": true,
    "tags": [],
    "ExecuteTime": {
     "end_time": "2025-06-17T19:22:38.528445Z",
     "start_time": "2025-06-17T19:22:05.227299Z"
    }
   },
   "source": [
    "plot_uncer = True  # set to false if you do not want to plot to save time\n",
    "sample_per_run = 5\n",
    "for k in range(sample_per_run):\n",
    "    x_prime = x\n",
    "    x = popbo.query_new_point(x_prime=x_prime)\n",
    "    one = sigma.pref_oracle(f(x), f(x_prime))\n",
    "    popbo.add_new_data(x_prime=x_prime, x=x, one=one)\n",
    "    print(f'New sampled point: {x}, with objective value {f(x)}.')\n",
    "\n",
    "if plot_uncer:\n",
    "    num_data = popbo.num_data\n",
    "    x_grid = popbo.config['x_grid']\n",
    "    max_ll_list = []\n",
    "    upb_list = []\n",
    "    lpb_list = []\n",
    "    f_list = []\n",
    "    for x in x_grid:\n",
    "        max_ll_list.append(popbo.get_maxLL_min_norm_inter(x))\n",
    "        upb_list.append(popbo.get_upper_bound(x, beta=0.2*np.sqrt(num_data)))\n",
    "        lpb_list.append(popbo.get_lower_bound(x, beta=0.2*np.sqrt(num_data)))\n",
    "        f_list.append(f(x))\n",
    "    sampled_f_list = []\n",
    "    for x in popbo.x_list:\n",
    "        sampled_f_list.append(f(x))\n",
    "    \n",
    "    plt.figure()\n",
    "    plt.plot(x_grid, f_list)\n",
    "    plt.plot(x_grid, max_ll_list)\n",
    "    plt.plot(x_grid, upb_list)\n",
    "    plt.plot(x_grid, lpb_list)\n",
    "    plt.scatter(popbo.x_list, sampled_f_list, marker='x')\n",
    "    plt.legend(['Ground truth', 'Maximum Likelihood Estimator', 'Confidence Upper Bound', 'Confidence Lower Bound', 'Sampled Points'])\n",
    "    plt.show()\n",
    "\n"
   ],
   "outputs": [
    {
     "name": "stdout",
     "output_type": "stream",
     "text": [
      "[5.32908765] with opt improvement 6.844730189067144, real 6.013185127015616\n",
      "Estimated best x: [5.329163634540852],  with regret 0.10829738446785653.\n",
      "Step 6: norm 1.4964416791857684, LL value -0.48466097846808687,avg -0.08077682974468114.\n",
      "New sampled point: [5.329087653576014], with objective value 2.7303535643264305.\n",
      "[5.89481655] with opt improvement 0.6091815834162646, real 0.6091819730871784\n",
      "Estimated best x: [5.329087653576014],  with regret 0.10822908886453764.\n",
      "Step 7: norm 1.4964416800800802, LL value -0.8008424641059406,avg -0.11440606630084867.\n",
      "New sampled point: [5.894816547316576], with objective value 1.9126305079945833.\n",
      "[4.85734301] with opt improvement 2.4303005077489104, real 2.4303007351477133\n",
      "Estimated best x: [5.329087653576014],  with regret 0.10822908886453764.\n",
      "Step 8: norm 1.4964416806095773, LL value -1.0069720781829261,avg -0.12587150977286576.\n",
      "New sampled point: [4.85734301005086], with objective value 2.846315734234312.\n",
      "[8.37699631] with opt improvement -0.5832083840926283, real -0.5832082415897717\n",
      "Estimated best x: [4.85734301005086],  with regret -0.007733081043344026.\n",
      "Step 9: norm 1.4964416807167145, LL value -1.0351998076202982,avg -0.1150222008466998.\n",
      "New sampled point: [8.376996308089181], with objective value -0.17803773256253974.\n",
      "[5.33444777] with opt improvement 5.972330307602333, real 5.345621204821375\n",
      "Estimated best x: [4.85734301005086],  with regret -0.007733081043344026.\n",
      "Step 10: norm 1.496441681107987, LL value -1.0636360874147428,avg -0.10636360874147428.\n",
      "New sampled point: [5.3344477699248385], with objective value 2.725499623833591.\n"
     ]
    },
    {
     "name": "stderr",
     "output_type": "stream",
     "text": [
      " /var/folders/vk/38fbwqvx4dg05k8q97qj8qfm0000gn/T/ipykernel_18121/1013354481.py:33: UserWarning:FigureCanvasAgg is non-interactive, and thus cannot be shown\n"
     ]
    }
   ],
   "execution_count": 8
  },
  {
   "cell_type": "markdown",
   "id": "c9692ae1",
   "metadata": {},
   "source": [
    "## plot the regret evolution"
   ]
  },
  {
   "cell_type": "code",
   "id": "9eba01b3",
   "metadata": {
    "ExecuteTime": {
     "end_time": "2025-06-17T19:22:38.572214Z",
     "start_time": "2025-06-17T19:22:38.535139Z"
    }
   },
   "source": [
    "x_list = [popbo.x_prime_list[0]] + popbo.x_list\n",
    "regret = [popbo.config['opt_val'] - f(x) for x in x_list]\n",
    "plt.plot(np.cumsum(regret))\n",
    "plt.plot([0, popbo.num_data], [regret[0], sum(regret)])\n",
    "plt.legend(['cumulative regret', 'linear reference'])\n",
    "plt.show()\n",
    "#plt.plot(opbo.estimated_best_x_list)"
   ],
   "outputs": [
    {
     "name": "stderr",
     "output_type": "stream",
     "text": [
      " /var/folders/vk/38fbwqvx4dg05k8q97qj8qfm0000gn/T/ipykernel_18121/3692594107.py:6: UserWarning:FigureCanvasAgg is non-interactive, and thus cannot be shown\n"
     ]
    }
   ],
   "execution_count": 9
  },
  {
   "cell_type": "code",
   "id": "b59dc741",
   "metadata": {
    "ExecuteTime": {
     "end_time": "2025-06-17T19:21:42.426906Z",
     "start_time": "2025-06-17T19:21:42.422820Z"
    }
   },
   "source": [],
   "outputs": [],
   "execution_count": null
  }
 ],
 "metadata": {
  "kernelspec": {
   "display_name": "Python 3",
   "language": "python",
   "name": "python3"
  },
  "language_info": {
   "codemirror_mode": {
    "name": "ipython",
    "version": 3
   },
   "file_extension": ".py",
   "mimetype": "text/x-python",
   "name": "python",
   "nbconvert_exporter": "python",
   "pygments_lexer": "ipython3",
   "version": "3.8.5"
  }
 },
 "nbformat": 4,
 "nbformat_minor": 5
}
