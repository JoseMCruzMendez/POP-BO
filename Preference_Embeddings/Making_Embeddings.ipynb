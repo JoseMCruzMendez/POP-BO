{
 "cells": [
  {
   "cell_type": "code",
   "id": "initial_id",
   "metadata": {
    "collapsed": true,
    "ExecuteTime": {
     "end_time": "2025-06-06T03:12:30.584544Z",
     "start_time": "2025-06-06T03:12:27.805098Z"
    }
   },
   "source": [
    "import numpy as np\n",
    "import torch\n",
    "from Embeddings import ComplexPreference, train_on_func, evaluate\n",
    "import sys\n",
    "sys.path.append('../')\n",
    "from TorchUtilityFunctions import ackley, branin, eggholder, matyas, michalewicz, rosenbrock, bukin"
   ],
   "outputs": [],
   "execution_count": 1
  },
  {
   "metadata": {
    "ExecuteTime": {
     "end_time": "2025-06-05T22:14:14.952168Z",
     "start_time": "2025-06-05T22:14:14.949727Z"
    }
   },
   "cell_type": "code",
   "source": [
    "#Default parameters used by the functions in their implementation. Should bypass the need for re-writing\n",
    "class AffineTransform:\n",
    "    def __init__(self):\n",
    "        self.affine_transform = np.array([1., 0.])\n",
    "params = AffineTransform()"
   ],
   "id": "65d861de8cfa914d",
   "outputs": [],
   "execution_count": 2
  },
  {
   "metadata": {
    "ExecuteTime": {
     "end_time": "2025-06-06T03:12:38.122922Z",
     "start_time": "2025-06-06T03:12:38.120349Z"
    }
   },
   "cell_type": "code",
   "source": [
    "funcs = {\n",
    "    \"ackley\": ackley,\n",
    "    \"branin\": branin,\n",
    "    \"eggholder\": eggholder,\n",
    "    \"matyas\": matyas,\n",
    "    \"michalewicz\": michalewicz,\n",
    "    \"rosenbrock\": rosenbrock,\n",
    "    \"bukin\": bukin,\n",
    "}"
   ],
   "id": "ff9297cc085296b5",
   "outputs": [],
   "execution_count": 3
  },
  {
   "metadata": {
    "ExecuteTime": {
     "end_time": "2025-06-06T03:12:54.652411Z",
     "start_time": "2025-06-06T03:12:54.647652Z"
    }
   },
   "cell_type": "code",
   "source": [
    "factor = 2\n",
    "sizes = [256, 128, 64]\n",
    "for name, func in funcs.items():\n",
    "    model = ComplexPreference(2, sizes=sizes)\n",
    "    print(\"-\"*20)\n",
    "    train_on_func(model, func, epochs=100, lr=0.01, patience=25)\n",
    "    evaluate(model, func)\n",
    "    torch.save(model.state_dict, f'../Embedding_Model_Weights/{name}.pt')"
   ],
   "id": "ae72ec330008a62c",
   "outputs": [],
   "execution_count": 5
  },
  {
   "metadata": {
    "ExecuteTime": {
     "end_time": "2025-06-06T03:14:26.864662Z",
     "start_time": "2025-06-06T03:14:26.744084Z"
    }
   },
   "cell_type": "code",
   "source": [
    "#Meant to save the models and not the state_dicts, correcting here\n",
    "for name, _ in funcs.items():\n",
    "    model = torch.jit.load(f\"../Embedding_Model_Weights/{name}.pt\", map_location=\"cpu\")\n",
    "    cplex_pref = ComplexPreference(2, sizes=sizes)\n",
    "    cplex_pref.load_state_dict(model.state_dict())\n",
    "    torch.save({\n",
    "        \"hparams\": cplex_pref.hparams,\n",
    "        \"state_dict\": cplex_pref.state_dict(),\n",
    "    }, f'../Embedding_Model_Weights/{name}.pt')"
   ],
   "id": "9beda1cd06bddb4c",
   "outputs": [],
   "execution_count": 7
  },
  {
   "metadata": {},
   "cell_type": "code",
   "outputs": [],
   "execution_count": null,
   "source": "",
   "id": "5a289ed863c1080a"
  }
 ],
 "metadata": {
  "kernelspec": {
   "display_name": "Python 3",
   "language": "python",
   "name": "python3"
  },
  "language_info": {
   "codemirror_mode": {
    "name": "ipython",
    "version": 2
   },
   "file_extension": ".py",
   "mimetype": "text/x-python",
   "name": "python",
   "nbconvert_exporter": "python",
   "pygments_lexer": "ipython2",
   "version": "2.7.6"
  }
 },
 "nbformat": 4,
 "nbformat_minor": 5
}
