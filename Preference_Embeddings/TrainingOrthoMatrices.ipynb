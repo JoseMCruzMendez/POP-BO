{
 "cells": [
  {
   "metadata": {
    "ExecuteTime": {
     "end_time": "2025-05-25T21:49:41.305901Z",
     "start_time": "2025-05-25T21:49:12.395865Z"
    }
   },
   "cell_type": "code",
   "source": [
    "from Preference_Embeddings.Embeddings import PreferenceEmbedding, FuncDataset, evaluate\n",
    "import torch\n",
    "import torch.nn as nn\n",
    "from torch.utils.data import DataLoader\n",
    "from torch.optim.lr_scheduler import LambdaLR"
   ],
   "id": "fcd111d5b8830387",
   "outputs": [],
   "execution_count": null
  },
  {
   "metadata": {
    "ExecuteTime": {
     "end_time": "2025-05-21T14:53:50.869829Z",
     "start_time": "2025-05-21T14:53:50.863255Z"
    }
   },
   "cell_type": "code",
   "source": [
    "# 6) Model, optimizer, loss\n",
    "model = PreferenceEmbedding(in_dim=2)\n",
    "func1 = lambda x: x.pow(2).sum()\n",
    "func2 = lambda x: 100 * torch.abs(torch.sqrt(x[1] - 0.01*x[0])) + 0.01 * torch.abs(x[0] + 10)"
   ],
   "id": "bb3109312f04b5ab",
   "outputs": [],
   "execution_count": 10
  },
  {
   "metadata": {
    "ExecuteTime": {
     "end_time": "2025-05-21T14:53:51.769562Z",
     "start_time": "2025-05-21T14:53:51.149218Z"
    }
   },
   "cell_type": "code",
   "source": [
    "batch_size = 64\n",
    "lr         = 1e-1\n",
    "epochs     = 500\n",
    "# 5) DataLoader\n",
    "dataset = FuncDataset(num_pairs=50_000, func = func1, minimize=True, in_dim=2)\n",
    "loader  = DataLoader(dataset, batch_size=512, shuffle=True)\n",
    "total_steps = epochs * len(loader)\n",
    "warmup_steps = int(0.1 * total_steps)\n",
    "\n",
    "#optimizer = torch.optim.LBFGS(model.parameters(), lr=lr, max_iter=50)\n",
    "optimizer = torch.optim.Adam(model.parameters(), lr=lr)\n",
    "def lr_lambda(step):\n",
    "    if step < warmup_steps:\n",
    "        return float(step) / float(max(1, warmup_steps))\n",
    "    else:\n",
    "        # cosine decay after warmup\n",
    "        progress = float(step - warmup_steps) / float(max(1, total_steps - warmup_steps))\n",
    "        return 0.5 * (1.0 + torch.cos(torch.tensor(torch.pi * progress)))\n",
    "scheduler = LambdaLR(optimizer, lr_lambda)\n",
    "loss_fn = nn.BCELoss()\n",
    "def closure():\n",
    "    optimizer.zero_grad()\n",
    "    preds = model(X, Xp)\n",
    "    loss  = loss_fn(preds, Y)\n",
    "    loss.backward()\n",
    "    return loss\n"
   ],
   "id": "d0f73bf2026fd21f",
   "outputs": [],
   "execution_count": 11
  },
  {
   "metadata": {
    "ExecuteTime": {
     "end_time": "2025-05-21T14:54:28.817035Z",
     "start_time": "2025-05-21T14:54:24.512119Z"
    }
   },
   "cell_type": "code",
   "source": [
    "patience = 10\n",
    "threshold = 1e-10\n",
    "best_loss = torch.inf\n",
    "bad_steps = 10\n",
    "optimizer = torch.optim.Adam(model.parameters(), lr=lr)\n",
    "scheduler = LambdaLR(optimizer, lr_lambda)\n",
    "for epoch in range(1, epochs):\n",
    "    # pull the entire dataset in one batch\n",
    "    X, Xp, Y = next(iter(loader))\n",
    "    #X, Xp, Y = X.to(device), Xp.to(device), Y.to(device)\n",
    "\n",
    "    optimizer.zero_grad()\n",
    "    preds = model(X, Xp)\n",
    "    loss  = loss_fn(preds, Y)\n",
    "    loss.backward()\n",
    "    optimizer.step()\n",
    "    scheduler.step()\n",
    "\n",
    "    # recompute for logging\n",
    "    with torch.no_grad():\n",
    "        loss_val = loss_fn(model(X, Xp), Y).item()\n",
    "        if loss_val < best_loss - threshold:\n",
    "            best_loss = loss_val\n",
    "            bad_steps = 0\n",
    "        else:\n",
    "            bad_steps += 1\n",
    "    if bad_steps >= patience:\n",
    "        pass\n",
    "    if epoch % 10 == 0:\n",
    "        print(f\"Epoch {epoch:03d} — loss: {loss_val:.6f}\")"
   ],
   "id": "d5378cd60fd19be5",
   "outputs": [
    {
     "name": "stdout",
     "output_type": "stream",
     "text": [
      "Epoch 010 — loss: 0.018386\n",
      "Epoch 020 — loss: 0.020493\n",
      "Epoch 030 — loss: 0.011020\n",
      "Epoch 040 — loss: 0.010171\n",
      "Epoch 050 — loss: 0.008826\n",
      "Epoch 060 — loss: 0.014865\n",
      "Epoch 070 — loss: 0.015429\n",
      "Epoch 080 — loss: 0.025624\n",
      "Epoch 090 — loss: 0.013852\n",
      "Epoch 100 — loss: 0.021805\n",
      "Epoch 110 — loss: 0.008451\n",
      "Epoch 120 — loss: 0.038114\n",
      "Epoch 130 — loss: 0.021774\n",
      "Epoch 140 — loss: 0.011073\n",
      "Epoch 150 — loss: 0.028083\n",
      "Epoch 160 — loss: 0.015589\n",
      "Epoch 170 — loss: 0.011158\n",
      "Epoch 180 — loss: 0.018997\n",
      "Epoch 190 — loss: 0.009813\n",
      "Epoch 200 — loss: 0.012800\n",
      "Epoch 210 — loss: 0.017569\n",
      "Epoch 220 — loss: 0.011136\n",
      "Epoch 230 — loss: 0.010027\n",
      "Epoch 240 — loss: 0.014313\n",
      "Epoch 250 — loss: 0.008176\n",
      "Epoch 260 — loss: 0.022520\n",
      "Epoch 270 — loss: 0.009340\n",
      "Epoch 280 — loss: 0.014176\n",
      "Epoch 290 — loss: 0.015348\n",
      "Epoch 300 — loss: 0.018964\n",
      "Epoch 310 — loss: 0.008947\n",
      "Epoch 320 — loss: 0.021490\n",
      "Epoch 330 — loss: 0.014179\n",
      "Epoch 340 — loss: 0.007700\n",
      "Epoch 350 — loss: 0.009031\n",
      "Epoch 360 — loss: 0.016072\n",
      "Epoch 370 — loss: 0.007321\n",
      "Epoch 380 — loss: 0.010122\n",
      "Epoch 390 — loss: 0.007912\n",
      "Epoch 400 — loss: 0.008943\n",
      "Epoch 410 — loss: 0.009036\n",
      "Epoch 420 — loss: 0.020616\n",
      "Epoch 430 — loss: 0.043708\n",
      "Epoch 440 — loss: 0.039278\n",
      "Epoch 450 — loss: 0.017713\n",
      "Epoch 460 — loss: 0.015537\n",
      "Epoch 470 — loss: 0.006177\n",
      "Epoch 480 — loss: 0.017271\n",
      "Epoch 490 — loss: 0.004853\n"
     ]
    }
   ],
   "execution_count": 15
  },
  {
   "metadata": {
    "ExecuteTime": {
     "end_time": "2025-05-21T14:54:31.508179Z",
     "start_time": "2025-05-21T14:54:31.048345Z"
    }
   },
   "cell_type": "code",
   "source": "res = evaluate(model, loader)",
   "id": "be297a0b351ad380",
   "outputs": [
    {
     "name": "stdout",
     "output_type": "stream",
     "text": [
      "Accuracy : 0.9966\n",
      "Precision: 0.9965\n",
      "Recall   : 0.9968\n",
      "F1-score : 0.9966\n",
      "ROC-AUC  : 0.9999\n",
      "Confusion Matrix:\n",
      "[[24901    87]\n",
      " [   81 24931]]\n"
     ]
    }
   ],
   "execution_count": 16
  },
  {
   "metadata": {
    "ExecuteTime": {
     "end_time": "2025-05-21T14:54:41.231650Z",
     "start_time": "2025-05-21T14:54:41.216874Z"
    }
   },
   "cell_type": "code",
   "source": "torch.save(model.state_dict(), '../Embedding_Model_Weights/model_x_squared.pt')",
   "id": "4765516100540977",
   "outputs": [],
   "execution_count": 17
  },
  {
   "metadata": {
    "ExecuteTime": {
     "end_time": "2025-05-11T00:34:25.936565Z",
     "start_time": "2025-05-11T00:34:25.931713Z"
    }
   },
   "cell_type": "code",
   "source": "loss_val",
   "id": "c4e20f53b5269fa9",
   "outputs": [
    {
     "data": {
      "text/plain": [
       "0.2851998209953308"
      ]
     },
     "execution_count": 68,
     "metadata": {},
     "output_type": "execute_result"
    }
   ],
   "execution_count": 68
  },
  {
   "metadata": {},
   "cell_type": "code",
   "outputs": [],
   "execution_count": null,
   "source": "",
   "id": "200e5f34d92ee7fc"
  }
 ],
 "metadata": {
  "kernelspec": {
   "display_name": "Python 3",
   "language": "python",
   "name": "python3"
  },
  "language_info": {
   "codemirror_mode": {
    "name": "ipython",
    "version": 2
   },
   "file_extension": ".py",
   "mimetype": "text/x-python",
   "name": "python",
   "nbconvert_exporter": "python",
   "pygments_lexer": "ipython2",
   "version": "2.7.6"
  }
 },
 "nbformat": 4,
 "nbformat_minor": 5
}
