{
 "cells": [
  {
   "cell_type": "code",
   "id": "initial_id",
   "metadata": {
    "collapsed": true,
    "ExecuteTime": {
     "end_time": "2025-06-17T03:07:21.905756Z",
     "start_time": "2025-06-17T03:07:20.359302Z"
    }
   },
   "source": [
    "from JAXEmbeddings import ComplexPreference, train_on_func, evaluate, unlabeled_batch_generator, get_ranges_and_evals\n",
    "import jax\n",
    "import jax.numpy as jnp\n",
    "from jax import random\n",
    "from Stackelberg.src.utils.utility_functions import ackley, branin, eggholder, hoelder, matyas, michalewicz, rosenbrock, bukin\n",
    "from collections import namedtuple\n",
    "import json\n",
    "import flax.serialization as serialization"
   ],
   "outputs": [],
   "execution_count": 2
  },
  {
   "metadata": {
    "ExecuteTime": {
     "end_time": "2025-06-17T03:07:21.914294Z",
     "start_time": "2025-06-17T03:07:21.911874Z"
    }
   },
   "cell_type": "code",
   "source": [
    "# 1) Define your “function” to optimize (in NumPy). E.g., a simple 2D paraboloid:\n",
    "def my_paraboloid(X: jnp.ndarray) -> jnp.ndarray:\n",
    "    # X has shape [N, 2]; return f(x,y) = x^2 + y^2\n",
    "    return jnp.sum(X**2, axis=1)"
   ],
   "id": "3dfffd31bb548630",
   "outputs": [],
   "execution_count": 3
  },
  {
   "metadata": {
    "ExecuteTime": {
     "end_time": "2025-06-17T03:10:52.195701Z",
     "start_time": "2025-06-17T03:10:52.174312Z"
    }
   },
   "cell_type": "code",
   "source": [
    "# 2) Create a Flax/Linen module instance\n",
    "in_dim = 2\n",
    "factor = 2      # must be even\n",
    "hidden_sizes = [256, 128, 64]\n",
    "# 3) Create a PRNGKey for initialization and training randomness\n",
    "key = random.PRNGKey(1)\n",
    "AffineTransform = namedtuple(\"AffineTransform\", [\"affine_transform\"])\n",
    "affine_transform = AffineTransform(jnp.array([1.,0.]))\n",
    "funcs = {\n",
    "    \"ackley\": {\n",
    "        \"func\": ackley,\n",
    "        \"bounds\": [[-32.768, 32.768],]*2,\n",
    "        \"sizes\": [512, 256, 128 ,64 ,32],\n",
    "        \"branches\": 3\n",
    "    },\n",
    "    \"branin\": {\n",
    "        \"func\": branin,\n",
    "        \"bounds\": [[-5, 10], [0, 15]],\n",
    "        \"sizes\": [256, 128 ,64]\n",
    "    },\n",
    "    \"eggholder\": {\n",
    "        \"func\": eggholder,\n",
    "        \"bounds\": [[-512,512],]*2,\n",
    "        \"sizes\": [512, 256, 128 ,64, 32]\n",
    "    },\n",
    "    \"hoelder\":{\n",
    "        \"func\": hoelder,\n",
    "        \"bounds\": [[-10,10],]*2,\n",
    "        \"sizes\": [512, 256, 128 ,64],\n",
    "        \"branches\": 2\n",
    "    },\n",
    "    \"matyas\": {\n",
    "        \"func\": matyas,\n",
    "        \"bounds\": [[-10,10],]*2,\n",
    "        \"sizes\": [256, 128 ,64]\n",
    "    },\n",
    "    \"michalewicz\": {\n",
    "        \"func\": michalewicz,\n",
    "        \"bounds\": [[0,jnp.pi],]*2,\n",
    "        \"sizes\": [256, 128 ,64]\n",
    "    },\n",
    "    \"rosenbrock\": {\n",
    "        \"func\": rosenbrock,\n",
    "        \"bounds\": [[-5,10],]*2,\n",
    "        \"sizes\": [256, 128 ,64]\n",
    "    },\n",
    "    \"bukin\": {\n",
    "        \"func\": bukin,\n",
    "        \"bounds\": [[-15, -5],[-3,3]],\n",
    "        \"sizes\": [512, 256, 128, 64],\n",
    "        \"branches\": 2\n",
    "    }\n",
    "}"
   ],
   "id": "e77c0c07e0513910",
   "outputs": [],
   "execution_count": 13
  },
  {
   "metadata": {},
   "cell_type": "code",
   "source": [
    "# 4) Train\n",
    "#for name, func_data in funcs.items():\n",
    "name = \"matyas\"\n",
    "func_data = funcs[name]\n",
    "print(\"-\"*40)\n",
    "print(f\"# {name}\")\n",
    "print(\"-\"*40)\n",
    "sizes = func_data[\"sizes\"]\n",
    "bounds = func_data[\"bounds\"]\n",
    "branches = func_data.get(\"branches\", 1)\n",
    "func = jax.vmap(lambda x: -func_data[\"func\"](x, affine_transform))\n",
    "model_def = ComplexPreference(in_dim=in_dim, factor=factor, sizes=sizes, branches=branches)\n",
    "results = train_on_func(\n",
    "    rng_key=key,\n",
    "    model_def=model_def,\n",
    "    func=func,\n",
    "    bounds=bounds,  # domain for both x and y\n",
    "    in_dim=in_dim,\n",
    "    num_pairs=50_000,\n",
    "    batch_size=512,\n",
    "    epochs=300,\n",
    "    lr=1e-3,\n",
    "    patience=20\n",
    ")\n",
    "learned_params = results['params']"
   ],
   "id": "e395c1a9513db95d",
   "execution_count": null,
   "outputs": []
  },
  {
   "metadata": {
    "ExecuteTime": {
     "end_time": "2025-06-17T03:15:00.524137Z",
     "start_time": "2025-06-17T03:14:56.471601Z"
    }
   },
   "cell_type": "code",
   "source": [
    "# 5) Evaluate\n",
    "eval_metrics = evaluate(\n",
    "    rng_key=key,\n",
    "    model_def=model_def,\n",
    "    params=learned_params,\n",
    "    func= func,\n",
    "    bounds=bounds,\n",
    "    in_dim=in_dim,\n",
    "    num_pairs=100_000,\n",
    "    batch_size=512\n",
    ")\n",
    "print(\"Eval metrics:\", eval_metrics)\n",
    "hparams = {\n",
    "    \"in_dim\": in_dim,\n",
    "    \"factor\": factor,\n",
    "    \"sizes\": sizes,  # e.g. [128, 64]\n",
    "    \"branches\": branches,\n",
    "}"
   ],
   "id": "cac00bd66175cee5",
   "outputs": [
    {
     "name": "stdout",
     "output_type": "stream",
     "text": [
      "Accuracy : 0.9972\n",
      "Precision: 0.9973\n",
      "Recall   : 0.9971\n",
      "F1-score : 0.9972\n",
      "ROC-AUC  : 1.0000\n",
      "Confusion Matrix:\n",
      "[[49918   136]\n",
      " [  144 49802]]\n",
      "Eval metrics: {'accuracy': 0.9972, 'precision': 0.9972766230125355, 'recall': 0.9971168862371361, 'f1': 0.9971967482279445, 'roc_auc': 0.9999596541529406, 'confusion_matrix': array([[49918,   136],\n",
      "       [  144, 49802]])}\n"
     ]
    }
   ],
   "execution_count": 17
  },
  {
   "metadata": {
    "ExecuteTime": {
     "end_time": "2025-06-17T03:08:19.984262Z",
     "start_time": "2025-06-17T03:08:19.982993Z"
    }
   },
   "cell_type": "code",
   "source": "",
   "id": "ddba603aa2dbf06",
   "outputs": [],
   "execution_count": null
  },
  {
   "metadata": {
    "ExecuteTime": {
     "end_time": "2025-06-17T03:14:05.714198Z",
     "start_time": "2025-06-17T03:14:05.688888Z"
    }
   },
   "cell_type": "code",
   "source": [
    "for dict_key in eval_metrics:\n",
    "    #cast to json friendly types\n",
    "    if dict_key == \"confusion_matrix\":\n",
    "        eval_metrics[dict_key] = eval_metrics[dict_key].tolist()\n",
    "    else:\n",
    "        eval_metrics[dict_key] = float(eval_metrics[dict_key])\n",
    "func_metadata ={\n",
    "    \"hparams\": hparams,\n",
    "    \"eval_metrics\": eval_metrics,\n",
    "}\n",
    "#write hyperparams + eval results for later reference\n",
    "hparam_path = f\"../Embedding_Model_Weights/{name}.json\"\n",
    "with open(hparam_path, \"w\") as fp:\n",
    "    json.dump(func_metadata, fp, indent=2)\n",
    "#Write actual func params\n",
    "param_bytes = serialization.to_bytes(learned_params)\n",
    "with open(f\"../Embedding_Model_Weights/{name}.msgpack\", \"wb\") as f:\n",
    "    f.write(param_bytes)"
   ],
   "id": "9868a52a7ea73402",
   "outputs": [],
   "execution_count": 15
  },
  {
   "metadata": {
    "ExecuteTime": {
     "end_time": "2025-06-17T03:14:05.939114Z",
     "start_time": "2025-06-17T03:14:05.935651Z"
    }
   },
   "cell_type": "code",
   "source": [
    "func_metadata ={\n",
    "    \"hparams\": hparams,\n",
    "    \"eval_metrics\": eval_metrics,\n",
    "}\n",
    "with open(hparam_path, \"w\") as fp:\n",
    "    json.dump(func_metadata, fp, indent=2)"
   ],
   "id": "2269c1bbaac09ce4",
   "outputs": [],
   "execution_count": 16
  },
  {
   "metadata": {
    "ExecuteTime": {
     "end_time": "2025-06-17T03:08:20.308663Z",
     "start_time": "2025-06-17T03:08:20.047533Z"
    }
   },
   "cell_type": "code",
   "source": "X, Y, fx, fy = get_ranges_and_evals(num_pairs=1000, func=func, in_dim=in_dim, bounds=bounds)",
   "id": "6e04fd5721c69cf5",
   "outputs": [],
   "execution_count": 8
  },
  {
   "metadata": {
    "ExecuteTime": {
     "end_time": "2025-06-17T03:08:20.522290Z",
     "start_time": "2025-06-17T03:08:20.330350Z"
    }
   },
   "cell_type": "code",
   "source": [
    "batcher = unlabeled_batch_generator(X, Y, fx, fy, 1024, True)\n",
    "for batch in batcher:\n",
    "    x, y, l = batch\n",
    "print(x.shape, y.shape, l.shape)"
   ],
   "id": "c1c9e9c83b29cbb",
   "outputs": [
    {
     "name": "stdout",
     "output_type": "stream",
     "text": [
      "(1000, 2) (1000, 2) (1000,)\n"
     ]
    }
   ],
   "execution_count": 9
  },
  {
   "metadata": {
    "ExecuteTime": {
     "end_time": "2025-06-17T03:08:20.547672Z",
     "start_time": "2025-06-17T03:08:20.546523Z"
    }
   },
   "cell_type": "code",
   "source": "",
   "id": "c14c9cfec6d17a22",
   "outputs": [],
   "execution_count": null
  },
  {
   "metadata": {
    "ExecuteTime": {
     "end_time": "2025-06-17T03:08:20.576790Z",
     "start_time": "2025-06-17T03:08:20.575416Z"
    }
   },
   "cell_type": "code",
   "source": "",
   "id": "bd08296858d29fd2",
   "outputs": [],
   "execution_count": null
  }
 ],
 "metadata": {
  "kernelspec": {
   "display_name": "Python 3",
   "language": "python",
   "name": "python3"
  },
  "language_info": {
   "codemirror_mode": {
    "name": "ipython",
    "version": 2
   },
   "file_extension": ".py",
   "mimetype": "text/x-python",
   "name": "python",
   "nbconvert_exporter": "python",
   "pygments_lexer": "ipython2",
   "version": "2.7.6"
  }
 },
 "nbformat": 4,
 "nbformat_minor": 5
}
