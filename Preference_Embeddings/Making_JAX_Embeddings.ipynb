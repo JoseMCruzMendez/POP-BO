{
 "cells": [
  {
   "cell_type": "code",
   "id": "initial_id",
   "metadata": {
    "collapsed": true,
    "ExecuteTime": {
     "end_time": "2025-06-18T01:52:49.277942Z",
     "start_time": "2025-06-18T01:52:47.862832Z"
    }
   },
   "source": [
    "from JAXEmbeddings import ComplexPreference, train_on_func, evaluate, unlabeled_batch_generator, get_ranges_and_evals\n",
    "import jax\n",
    "import jax.numpy as jnp\n",
    "from jax import random\n",
    "from Stackelberg.src.utils.utility_functions import ackley, branin, eggholder, hoelder, matyas, michalewicz, rosenbrock, bukin\n",
    "from collections import namedtuple\n",
    "import json\n",
    "import flax.serialization as serialization"
   ],
   "outputs": [],
   "execution_count": 1
  },
  {
   "metadata": {
    "ExecuteTime": {
     "end_time": "2025-06-18T01:52:49.351975Z",
     "start_time": "2025-06-18T01:52:49.349786Z"
    }
   },
   "cell_type": "code",
   "source": [
    "# 1) Define your “function” to optimize (in NumPy). E.g., a simple 2D paraboloid:\n",
    "def my_paraboloid(X: jnp.ndarray) -> jnp.ndarray:\n",
    "    # X has shape [N, 2]; return f(x,y) = x^2 + y^2\n",
    "    return jnp.sum(X**2, axis=1)"
   ],
   "id": "3dfffd31bb548630",
   "outputs": [],
   "execution_count": 2
  },
  {
   "metadata": {
    "ExecuteTime": {
     "end_time": "2025-06-18T01:52:49.434190Z",
     "start_time": "2025-06-18T01:52:49.357920Z"
    }
   },
   "cell_type": "code",
   "source": [
    "# 2) Create a Flax/Linen module instance\n",
    "in_dim = 2\n",
    "factor = 2      # must be even\n",
    "# 3) Create a PRNGKey for initialization and training randomness\n",
    "key = random.PRNGKey(1)\n",
    "AffineTransform = namedtuple(\"AffineTransform\", [\"affine_transform\"])\n",
    "affine_transform = AffineTransform(jnp.array([1.,0.]))\n",
    "funcs = {\n",
    "    \"ackley\": {\n",
    "        \"func\": ackley,\n",
    "        \"bounds\": [[-5,5],]*2,#[[-32.768, 32.768],]*2, Imitating the bounds in ackley/config.yaml\n",
    "        \"sizes\": [512, 256, 128 ,64 ,32],\n",
    "        \"branches\": 3\n",
    "    },\n",
    "    \"branin\": {\n",
    "        \"func\": branin,\n",
    "        \"bounds\": [[-5, 10], [0, 15]],\n",
    "        \"sizes\": [256, 128 ,64]\n",
    "    },\n",
    "    \"eggholder\": {\n",
    "        \"func\": eggholder,\n",
    "        \"bounds\": [[-512,512],]*2,\n",
    "        \"sizes\": [512, 256, 128 ,64, 32]\n",
    "    },\n",
    "    \"hoelder\":{\n",
    "        \"func\": hoelder,\n",
    "        \"bounds\": [[-10,10],]*2,\n",
    "        \"sizes\": [512, 256, 128 ,64],\n",
    "        \"branches\": 2\n",
    "    },\n",
    "    \"matyas\": {\n",
    "        \"func\": matyas,\n",
    "        \"bounds\": [[-10,10],]*2,\n",
    "        \"sizes\": [256, 128 ,64]\n",
    "    },\n",
    "    \"michalewicz\": {\n",
    "        \"func\": michalewicz,\n",
    "        \"bounds\": [[0,jnp.pi],]*2,\n",
    "        \"sizes\": [256, 128 ,64]\n",
    "    },\n",
    "    \"rosenbrock\": {\n",
    "        \"func\": rosenbrock,\n",
    "        \"bounds\": [[-5,10],]*2,\n",
    "        \"sizes\": [256, 128 ,64]\n",
    "    },\n",
    "    \"bukin\": {\n",
    "        \"func\": bukin,\n",
    "        \"bounds\": [[-15, -5],[-3,3]],\n",
    "        \"sizes\": [512, 256, 128, 64],\n",
    "        \"branches\": 2\n",
    "    }\n",
    "}"
   ],
   "id": "e77c0c07e0513910",
   "outputs": [],
   "execution_count": 3
  },
  {
   "metadata": {
    "ExecuteTime": {
     "end_time": "2025-06-18T02:01:48.492582Z",
     "start_time": "2025-06-18T01:53:10.667869Z"
    }
   },
   "cell_type": "code",
   "source": [
    "# 4) Train\n",
    "#for name, func_data in funcs.items():\n",
    "name = \"ackley\"\n",
    "func_data = funcs[name]\n",
    "print(\"-\"*40)\n",
    "print(f\"# {name}\")\n",
    "print(\"-\"*40)\n",
    "sizes = func_data[\"sizes\"]\n",
    "bounds = func_data[\"bounds\"]\n",
    "branches = func_data.get(\"branches\", 1)\n",
    "func = jax.vmap(lambda x: -func_data[\"func\"](x, affine_transform))\n",
    "model_def = ComplexPreference(in_dim=in_dim, factor=factor, sizes=sizes, branches=branches)\n",
    "results = train_on_func(\n",
    "    rng_key=key,\n",
    "    model_def=model_def,\n",
    "    func=func,\n",
    "    bounds=bounds,  # domain for both x and y\n",
    "    in_dim=in_dim,\n",
    "    num_pairs=50_000,\n",
    "    batch_size=512,\n",
    "    epochs=500,\n",
    "    lr=1e-3,\n",
    "    patience=20,\n",
    "    #ackley=True\n",
    ")\n",
    "learned_params = results['params']"
   ],
   "id": "e395c1a9513db95d",
   "outputs": [
    {
     "name": "stdout",
     "output_type": "stream",
     "text": [
      "----------------------------------------\n",
      "# ackley\n",
      "----------------------------------------\n",
      "Epoch 010 — avg loss: 0.189206\n",
      "Epoch 020 — avg loss: 0.185711\n",
      "Epoch 030 — avg loss: 0.184028\n",
      "Epoch 040 — avg loss: 0.182583\n",
      "Epoch 050 — avg loss: 0.181041\n",
      "Epoch 060 — avg loss: 0.178187\n",
      "Epoch 070 — avg loss: 0.175363\n",
      "Epoch 080 — avg loss: 0.173812\n",
      "Epoch 090 — avg loss: 0.170714\n",
      "Epoch 100 — avg loss: 0.165158\n",
      "Epoch 110 — avg loss: 0.156835\n",
      "Epoch 120 — avg loss: 0.146599\n",
      "Epoch 130 — avg loss: 0.126765\n",
      "Epoch 140 — avg loss: 0.114719\n",
      "Epoch 150 — avg loss: 0.104170\n",
      "Epoch 160 — avg loss: 0.098410\n",
      "Epoch 170 — avg loss: 0.095269\n",
      "Epoch 180 — avg loss: 0.085000\n",
      "Epoch 190 — avg loss: 0.078343\n",
      "Epoch 200 — avg loss: 0.079700\n",
      "Epoch 210 — avg loss: 0.071028\n",
      "Epoch 220 — avg loss: 0.070845\n",
      "Epoch 230 — avg loss: 0.063968\n",
      "Epoch 240 — avg loss: 0.060685\n",
      "Epoch 250 — avg loss: 0.055072\n",
      "Epoch 260 — avg loss: 0.073334\n",
      "Epoch 270 — avg loss: 0.046586\n",
      "Epoch 280 — avg loss: 0.054085\n",
      "Epoch 290 — avg loss: 0.041218\n",
      "Epoch 300 — avg loss: 0.048825\n",
      "Epoch 310 — avg loss: 0.036224\n",
      "Epoch 320 — avg loss: 0.033057\n",
      "Epoch 330 — avg loss: 0.030823\n",
      "Epoch 340 — avg loss: 0.031175\n",
      "Epoch 350 — avg loss: 0.025539\n",
      "Epoch 360 — avg loss: 0.023573\n",
      "Epoch 370 — avg loss: 0.021928\n",
      "Epoch 380 — avg loss: 0.019802\n",
      "Epoch 390 — avg loss: 0.018504\n",
      "Epoch 400 — avg loss: 0.016397\n",
      "Epoch 410 — avg loss: 0.014494\n",
      "Epoch 420 — avg loss: 0.013315\n",
      "Epoch 430 — avg loss: 0.012558\n",
      "Epoch 440 — avg loss: 0.012062\n",
      "Epoch 450 — avg loss: 0.011910\n",
      "Epoch 460 — avg loss: 0.011909\n",
      "Epoch 470 — avg loss: 0.011909\n",
      "Early stopping at epoch 471 (avg loss 0.011909)\n"
     ]
    }
   ],
   "execution_count": 5
  },
  {
   "metadata": {
    "ExecuteTime": {
     "end_time": "2025-06-18T02:02:00.225678Z",
     "start_time": "2025-06-18T02:01:53.920377Z"
    }
   },
   "cell_type": "code",
   "source": [
    "  # 5) Evaluate\n",
    "eval_metrics = evaluate(\n",
    "    rng_key=key,\n",
    "    model_def=model_def,\n",
    "    params=learned_params,\n",
    "    func= func,\n",
    "    bounds=bounds,\n",
    "    in_dim=in_dim,\n",
    "    num_pairs=100_000,\n",
    "    batch_size=512\n",
    ")\n",
    "print(\"Eval metrics:\", eval_metrics)\n",
    "hparams = {\n",
    "    \"in_dim\": in_dim,\n",
    "    \"factor\": factor,\n",
    "    \"sizes\": sizes,  # e.g. [128, 64]\n",
    "    \"branches\": branches,\n",
    "}"
   ],
   "id": "cac00bd66175cee5",
   "outputs": [
    {
     "name": "stdout",
     "output_type": "stream",
     "text": [
      "Accuracy : 0.9676\n",
      "Precision: 0.9666\n",
      "Recall   : 0.9683\n",
      "F1-score : 0.9675\n",
      "ROC-AUC  : 0.9953\n",
      "Confusion Matrix:\n",
      "[[48571  1663]\n",
      " [ 1576 48190]]\n",
      "Eval metrics: {'accuracy': 0.96761, 'precision': 0.9666419272661625, 'recall': 0.9683317927902584, 'f1': 0.9674861221252974, 'roc_auc': 0.9953349622244766, 'confusion_matrix': array([[48571,  1663],\n",
      "       [ 1576, 48190]])}\n"
     ]
    }
   ],
   "execution_count": 6
  },
  {
   "metadata": {
    "ExecuteTime": {
     "end_time": "2025-06-18T01:52:42.733231Z",
     "start_time": "2025-06-17T03:08:19.982993Z"
    }
   },
   "cell_type": "code",
   "source": "",
   "id": "ddba603aa2dbf06",
   "outputs": [],
   "execution_count": null
  },
  {
   "metadata": {
    "ExecuteTime": {
     "end_time": "2025-06-18T02:02:00.246374Z",
     "start_time": "2025-06-18T02:02:00.238242Z"
    }
   },
   "cell_type": "code",
   "source": [
    "for dict_key in eval_metrics:\n",
    "    #cast to json friendly types\n",
    "    if dict_key == \"confusion_matrix\":\n",
    "        eval_metrics[dict_key] = eval_metrics[dict_key].tolist()\n",
    "    else:\n",
    "        eval_metrics[dict_key] = float(eval_metrics[dict_key])\n",
    "func_metadata ={\n",
    "    \"hparams\": hparams,\n",
    "    \"eval_metrics\": eval_metrics,\n",
    "}\n",
    "#write hyperparams + eval results for later reference\n",
    "hparam_path = f\"../Embedding_Model_Weights/{name}.json\"\n",
    "with open(hparam_path, \"w\") as fp:\n",
    "    json.dump(func_metadata, fp, indent=2)\n",
    "#Write actual func params\n",
    "param_bytes = serialization.to_bytes(learned_params)\n",
    "with open(f\"../Embedding_Model_Weights/{name}.msgpack\", \"wb\") as f:\n",
    "    f.write(param_bytes)"
   ],
   "id": "9868a52a7ea73402",
   "outputs": [],
   "execution_count": 7
  },
  {
   "metadata": {
    "ExecuteTime": {
     "end_time": "2025-06-18T02:02:00.274026Z",
     "start_time": "2025-06-18T02:02:00.271203Z"
    }
   },
   "cell_type": "code",
   "source": [
    "func_metadata ={\n",
    "    \"hparams\": hparams,\n",
    "    \"eval_metrics\": eval_metrics,\n",
    "}\n",
    "with open(hparam_path, \"w\") as fp:\n",
    "    json.dump(func_metadata, fp, indent=2)"
   ],
   "id": "2269c1bbaac09ce4",
   "outputs": [],
   "execution_count": 8
  },
  {
   "metadata": {
    "ExecuteTime": {
     "end_time": "2025-06-18T01:52:42.749675Z",
     "start_time": "2025-06-17T03:08:20.047533Z"
    }
   },
   "cell_type": "code",
   "source": "X, Y, fx, fy = get_ranges_and_evals(num_pairs=1000, func=func, in_dim=in_dim, bounds=bounds)",
   "id": "6e04fd5721c69cf5",
   "outputs": [],
   "execution_count": 8
  },
  {
   "metadata": {
    "ExecuteTime": {
     "end_time": "2025-06-18T01:52:42.749831Z",
     "start_time": "2025-06-17T03:08:20.330350Z"
    }
   },
   "cell_type": "code",
   "source": [
    "batcher = unlabeled_batch_generator(X, Y, fx, fy, 1024, True)\n",
    "for batch in batcher:\n",
    "    x, y, l = batch\n",
    "print(x.shape, y.shape, l.shape)"
   ],
   "id": "c1c9e9c83b29cbb",
   "outputs": [
    {
     "name": "stdout",
     "output_type": "stream",
     "text": [
      "(1000, 2) (1000, 2) (1000,)\n"
     ]
    }
   ],
   "execution_count": 9
  },
  {
   "metadata": {
    "ExecuteTime": {
     "end_time": "2025-06-18T01:52:42.756750Z",
     "start_time": "2025-06-17T03:08:20.546523Z"
    }
   },
   "cell_type": "code",
   "source": "",
   "id": "c14c9cfec6d17a22",
   "outputs": [],
   "execution_count": null
  },
  {
   "metadata": {
    "ExecuteTime": {
     "end_time": "2025-06-18T01:52:42.757139Z",
     "start_time": "2025-06-17T03:08:20.575416Z"
    }
   },
   "cell_type": "code",
   "source": "",
   "id": "bd08296858d29fd2",
   "outputs": [],
   "execution_count": null
  }
 ],
 "metadata": {
  "kernelspec": {
   "display_name": "Python 3",
   "language": "python",
   "name": "python3"
  },
  "language_info": {
   "codemirror_mode": {
    "name": "ipython",
    "version": 2
   },
   "file_extension": ".py",
   "mimetype": "text/x-python",
   "name": "python",
   "nbconvert_exporter": "python",
   "pygments_lexer": "ipython2",
   "version": "2.7.6"
  }
 },
 "nbformat": 4,
 "nbformat_minor": 5
}
