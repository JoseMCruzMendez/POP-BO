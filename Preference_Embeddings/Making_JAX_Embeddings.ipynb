{
 "cells": [
  {
   "cell_type": "code",
   "id": "initial_id",
   "metadata": {
    "collapsed": true,
    "ExecuteTime": {
     "end_time": "2025-06-24T03:11:41.246430Z",
     "start_time": "2025-06-24T03:11:39.775193Z"
    }
   },
   "source": [
    "from JAXEmbeddings import ComplexPreference, train_on_func, evaluate, unlabeled_batch_generator, get_ranges_and_evals\n",
    "import jax\n",
    "import jax.numpy as jnp\n",
    "from jax import random\n",
    "from Stackelberg.src.utils.utility_functions import ackley, branin, eggholder, hoelder, matyas, michalewicz, rosenbrock, bukin\n",
    "from collections import namedtuple\n",
    "import json\n",
    "import flax.serialization as serialization"
   ],
   "outputs": [],
   "execution_count": 1
  },
  {
   "metadata": {
    "ExecuteTime": {
     "end_time": "2025-06-24T03:11:41.327775Z",
     "start_time": "2025-06-24T03:11:41.325827Z"
    }
   },
   "cell_type": "code",
   "source": [
    "# 1) Define your “function” to optimize (in NumPy). E.g., a simple 2D paraboloid:\n",
    "def my_paraboloid(X: jnp.ndarray) -> jnp.ndarray:\n",
    "    # X has shape [N, 2]; return f(x,y) = x^2 + y^2\n",
    "    return jnp.sum(X**2, axis=1)"
   ],
   "id": "3dfffd31bb548630",
   "outputs": [],
   "execution_count": 2
  },
  {
   "metadata": {
    "ExecuteTime": {
     "end_time": "2025-06-24T03:11:41.390218Z",
     "start_time": "2025-06-24T03:11:41.337801Z"
    }
   },
   "cell_type": "code",
   "source": [
    "# 2) Create a Flax/Linen module instance\n",
    "in_dim = 2\n",
    "factor = 2      # must be even\n",
    "# 3) Create a PRNGKey for initialization and training randomness\n",
    "key = random.PRNGKey(1)\n",
    "AffineTransform = namedtuple(\"AffineTransform\", [\"affine_transform\"])\n",
    "affine_transform = AffineTransform(jnp.array([1.,0.]))\n",
    "funcs = {\n",
    "    \"ackley\": {\n",
    "        \"func\": ackley,\n",
    "        \"bounds\": [[-5,5],]*2,#[[-32.768, 32.768],]*2, Imitating the bounds in ackley/config.yaml\n",
    "        \"sizes\": [512, 256, 128 ,64 ,32],\n",
    "        \"branches\": 3\n",
    "    },\n",
    "    \"branin\": {\n",
    "        \"func\": branin,\n",
    "        \"bounds\": [[-5, 10], [0, 15]],\n",
    "        \"sizes\": [256, 128 ,64]\n",
    "    },\n",
    "    \"eggholder\": {\n",
    "        \"func\": eggholder,\n",
    "        \"bounds\": [[-512,512],]*2,\n",
    "        \"sizes\": [512, 256, 128 ,64, 32]\n",
    "    },\n",
    "    \"hoelder\":{\n",
    "        \"func\": hoelder,\n",
    "        \"bounds\": [[-10,10],]*2,\n",
    "        \"sizes\": [512, 256, 128 ,64],\n",
    "        \"branches\": 2\n",
    "    },\n",
    "    \"matyas\": {\n",
    "        \"func\": matyas,\n",
    "        \"bounds\": [[-10,10],]*2,\n",
    "        \"sizes\": [256, 128 ,64]\n",
    "    },\n",
    "    \"michalewicz\": {\n",
    "        \"func\": michalewicz,\n",
    "        \"bounds\": [[0,jnp.pi],]*2,\n",
    "        \"sizes\": [256, 128 ,64]\n",
    "    },\n",
    "    \"rosenbrock\": {\n",
    "        \"func\": rosenbrock,\n",
    "        \"bounds\": [[-5,10],]*2,\n",
    "        \"sizes\": [256, 128 ,64]\n",
    "    },\n",
    "    \"bukin\": {\n",
    "        \"func\": bukin,\n",
    "        \"bounds\": [[-15, -5],[-3,3]],\n",
    "        \"sizes\": [512, 256, 128, 64],\n",
    "        \"branches\": 2\n",
    "    }\n",
    "}"
   ],
   "id": "e77c0c07e0513910",
   "outputs": [],
   "execution_count": 3
  },
  {
   "metadata": {
    "ExecuteTime": {
     "end_time": "2025-06-24T03:44:47.169120Z",
     "start_time": "2025-06-24T03:41:12.157349Z"
    }
   },
   "cell_type": "code",
   "source": [
    "# 4) Train\n",
    "#for name, func_data in funcs.items():\n",
    "name = \"bukin\"\n",
    "func_data = funcs[name]\n",
    "print(\"-\"*40)\n",
    "print(f\"# {name}\")\n",
    "print(\"-\"*40)\n",
    "sizes = func_data[\"sizes\"]\n",
    "bounds = func_data[\"bounds\"]\n",
    "branches = func_data.get(\"branches\", 1)\n",
    "func = jax.vmap(lambda x: -func_data[\"func\"](x, affine_transform))\n",
    "model_def = ComplexPreference(in_dim=in_dim, factor=factor, sizes=sizes, branches=branches)\n",
    "results = train_on_func(\n",
    "    rng_key=key,\n",
    "    model_def=model_def,\n",
    "    func=func,\n",
    "    bounds=bounds,  # domain for both x and y\n",
    "    in_dim=in_dim,\n",
    "    num_pairs=50_000,\n",
    "    batch_size=512,\n",
    "    epochs=500,\n",
    "    lr=1e-3,\n",
    "    patience=20,\n",
    "    #ackley=True\n",
    ")\n",
    "learned_params = results['params']"
   ],
   "id": "e395c1a9513db95d",
   "outputs": [
    {
     "name": "stdout",
     "output_type": "stream",
     "text": [
      "----------------------------------------\n",
      "# bukin\n",
      "----------------------------------------\n",
      "Epoch 010 — avg loss: 0.123794\n",
      "Epoch 020 — avg loss: 0.088396\n",
      "Epoch 030 — avg loss: 0.075823\n",
      "Epoch 040 — avg loss: 0.068367\n",
      "Epoch 050 — avg loss: 0.058351\n",
      "Epoch 060 — avg loss: 0.044460\n",
      "Epoch 070 — avg loss: 0.046069\n",
      "Epoch 080 — avg loss: 0.038240\n",
      "Epoch 090 — avg loss: 0.045825\n",
      "Epoch 100 — avg loss: 0.036527\n",
      "Epoch 110 — avg loss: 0.034698\n",
      "Epoch 120 — avg loss: 0.032453\n",
      "Epoch 130 — avg loss: 0.034679\n",
      "Epoch 140 — avg loss: 0.036931\n",
      "Epoch 150 — avg loss: 0.025433\n",
      "Epoch 160 — avg loss: 0.026526\n",
      "Epoch 170 — avg loss: 0.024085\n",
      "Epoch 180 — avg loss: 0.023218\n",
      "Epoch 190 — avg loss: 0.023237\n",
      "Epoch 200 — avg loss: 0.030899\n",
      "Early stopping at epoch 202 (avg loss 0.024896)\n"
     ]
    }
   ],
   "execution_count": 27
  },
  {
   "metadata": {
    "ExecuteTime": {
     "end_time": "2025-06-24T03:49:25.547188Z",
     "start_time": "2025-06-24T03:49:21.127402Z"
    }
   },
   "cell_type": "code",
   "source": [
    "  # 5) Evaluate\n",
    "eval_metrics = evaluate(\n",
    "    rng_key=key,\n",
    "    model_def=model_def,\n",
    "    params=learned_params,\n",
    "    func= func,\n",
    "    bounds=bounds,\n",
    "    in_dim=in_dim,\n",
    "    num_pairs=100_000,\n",
    "    batch_size=512\n",
    ")\n",
    "print(\"Eval metrics:\", eval_metrics)\n",
    "hparams = {\n",
    "    \"in_dim\": in_dim,\n",
    "    \"factor\": factor,\n",
    "    \"sizes\": sizes,  # e.g. [128, 64]\n",
    "    \"branches\": branches,\n",
    "}"
   ],
   "id": "cac00bd66175cee5",
   "outputs": [
    {
     "name": "stdout",
     "output_type": "stream",
     "text": [
      "Accuracy : 0.9886\n",
      "Precision: 0.9845\n",
      "Recall   : 0.9928\n",
      "F1-score : 0.9886\n",
      "ROC-AUC  : 0.9996\n",
      "Confusion Matrix:\n",
      "[[49410   779]\n",
      " [  358 49453]]\n",
      "Eval metrics: {'accuracy': 0.98863, 'precision': 0.9844919573180443, 'recall': 0.992812832506876, 'f1': 0.9886348869985906, 'roc_auc': 0.9996382340309432, 'confusion_matrix': array([[49410,   779],\n",
      "       [  358, 49453]])}\n"
     ]
    }
   ],
   "execution_count": 29
  },
  {
   "metadata": {
    "ExecuteTime": {
     "end_time": "2025-06-24T03:49:25.573882Z",
     "start_time": "2025-06-24T03:49:25.570996Z"
    }
   },
   "cell_type": "code",
   "source": "",
   "id": "ddba603aa2dbf06",
   "outputs": [],
   "execution_count": null
  },
  {
   "metadata": {
    "ExecuteTime": {
     "end_time": "2025-06-24T03:49:25.609223Z",
     "start_time": "2025-06-24T03:49:25.594814Z"
    }
   },
   "cell_type": "code",
   "source": [
    "for dict_key in eval_metrics:\n",
    "    #cast to json friendly types\n",
    "    if dict_key == \"confusion_matrix\":\n",
    "        eval_metrics[dict_key] = eval_metrics[dict_key].tolist()\n",
    "    else:\n",
    "        eval_metrics[dict_key] = float(eval_metrics[dict_key])\n",
    "func_metadata ={\n",
    "    \"hparams\": hparams,\n",
    "    \"eval_metrics\": eval_metrics,\n",
    "}\n",
    "#write hyperparams + eval results for later reference\n",
    "hparam_path = f\"../Embedding_Model_Weights/{name}.json\"\n",
    "with open(hparam_path, \"w\") as fp:\n",
    "    json.dump(func_metadata, fp, indent=2)\n",
    "#Write actual func params\n",
    "param_bytes = serialization.to_bytes(learned_params)\n",
    "with open(f\"../Embedding_Model_Weights/{name}.msgpack\", \"wb\") as f:\n",
    "    f.write(param_bytes)"
   ],
   "id": "9868a52a7ea73402",
   "outputs": [],
   "execution_count": 30
  },
  {
   "metadata": {
    "ExecuteTime": {
     "end_time": "2025-06-24T03:49:25.645868Z",
     "start_time": "2025-06-24T03:49:25.641891Z"
    }
   },
   "cell_type": "code",
   "source": [
    "func_metadata ={\n",
    "    \"hparams\": hparams,\n",
    "    \"eval_metrics\": eval_metrics,\n",
    "}\n",
    "with open(hparam_path, \"w\") as fp:\n",
    "    json.dump(func_metadata, fp, indent=2)"
   ],
   "id": "2269c1bbaac09ce4",
   "outputs": [],
   "execution_count": 31
  },
  {
   "metadata": {
    "ExecuteTime": {
     "end_time": "2025-06-18T01:52:42.749675Z",
     "start_time": "2025-06-17T03:08:20.047533Z"
    }
   },
   "cell_type": "code",
   "source": "X, Y, fx, fy = get_ranges_and_evals(num_pairs=1000, func=func, in_dim=in_dim, bounds=bounds)",
   "id": "6e04fd5721c69cf5",
   "outputs": [],
   "execution_count": 8
  },
  {
   "metadata": {
    "ExecuteTime": {
     "end_time": "2025-06-18T01:52:42.749831Z",
     "start_time": "2025-06-17T03:08:20.330350Z"
    }
   },
   "cell_type": "code",
   "source": [
    "batcher = unlabeled_batch_generator(X, Y, fx, fy, 1024, True)\n",
    "for batch in batcher:\n",
    "    x, y, l = batch\n",
    "print(x.shape, y.shape, l.shape)"
   ],
   "id": "c1c9e9c83b29cbb",
   "outputs": [
    {
     "name": "stdout",
     "output_type": "stream",
     "text": [
      "(1000, 2) (1000, 2) (1000,)\n"
     ]
    }
   ],
   "execution_count": 9
  },
  {
   "metadata": {
    "ExecuteTime": {
     "end_time": "2025-06-18T01:52:42.756750Z",
     "start_time": "2025-06-17T03:08:20.546523Z"
    }
   },
   "cell_type": "code",
   "source": "",
   "id": "c14c9cfec6d17a22",
   "outputs": [],
   "execution_count": null
  },
  {
   "metadata": {
    "ExecuteTime": {
     "end_time": "2025-06-18T01:52:42.757139Z",
     "start_time": "2025-06-17T03:08:20.575416Z"
    }
   },
   "cell_type": "code",
   "source": "",
   "id": "bd08296858d29fd2",
   "outputs": [],
   "execution_count": null
  }
 ],
 "metadata": {
  "kernelspec": {
   "display_name": "Python 3",
   "language": "python",
   "name": "python3"
  },
  "language_info": {
   "codemirror_mode": {
    "name": "ipython",
    "version": 2
   },
   "file_extension": ".py",
   "mimetype": "text/x-python",
   "name": "python",
   "nbconvert_exporter": "python",
   "pygments_lexer": "ipython2",
   "version": "2.7.6"
  }
 },
 "nbformat": 4,
 "nbformat_minor": 5
}
