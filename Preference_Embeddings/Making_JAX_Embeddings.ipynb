{
 "cells": [
  {
   "cell_type": "code",
   "id": "initial_id",
   "metadata": {
    "collapsed": true,
    "ExecuteTime": {
     "end_time": "2025-06-17T02:30:34.909297Z",
     "start_time": "2025-06-17T02:30:33.603992Z"
    }
   },
   "source": [
    "from JAXEmbeddings import ComplexPreference, train_on_func, evaluate\n",
    "import jax\n",
    "import jax.numpy as jnp\n",
    "from jax import random\n",
    "from Stackelberg.src.utils.utility_functions import ackley, branin, eggholder, hoelder, matyas, michalewicz, rosenbrock, bukin\n",
    "from collections import namedtuple\n",
    "import json\n",
    "import flax.serialization as serialization"
   ],
   "outputs": [],
   "execution_count": 1
  },
  {
   "metadata": {
    "ExecuteTime": {
     "end_time": "2025-06-17T02:30:34.962447Z",
     "start_time": "2025-06-17T02:30:34.960143Z"
    }
   },
   "cell_type": "code",
   "source": [
    "# 1) Define your “function” to optimize (in NumPy). E.g., a simple 2D paraboloid:\n",
    "def my_paraboloid(X: jnp.ndarray) -> jnp.ndarray:\n",
    "    # X has shape [N, 2]; return f(x,y) = x^2 + y^2\n",
    "    return jnp.sum(X**2, axis=1)"
   ],
   "id": "3dfffd31bb548630",
   "outputs": [],
   "execution_count": 2
  },
  {
   "metadata": {
    "ExecuteTime": {
     "end_time": "2025-06-17T02:30:35.044414Z",
     "start_time": "2025-06-17T02:30:34.971311Z"
    }
   },
   "cell_type": "code",
   "source": [
    "# 2) Create a Flax/Linen module instance\n",
    "in_dim = 2\n",
    "factor = 2      # must be even\n",
    "hidden_sizes = [256, 128, 64]\n",
    "# 3) Create a PRNGKey for initialization and training randomness\n",
    "key = random.PRNGKey(0)\n",
    "AffineTransform = namedtuple(\"AffineTransform\", [\"affine_transform\"])\n",
    "affine_transform = AffineTransform(jnp.array([1.,0.]))\n",
    "funcs = {\n",
    "    \"ackley\": {\n",
    "        \"func\": ackley,\n",
    "        \"bounds\": [[-32.768, 32.768],]*2,\n",
    "        \"sizes\": [512, 256, 128 ,64 ,32],\n",
    "        \"branches\": 3\n",
    "    },\n",
    "    \"branin\": {\n",
    "        \"func\": branin,\n",
    "        \"bounds\": [[-5, 10], [0, 15]],\n",
    "        \"sizes\": [256, 128 ,64]\n",
    "    },\n",
    "    \"eggholder\": {\n",
    "        \"func\": eggholder,\n",
    "        \"bounds\": [[-512,512],]*2,\n",
    "        \"sizes\": [512, 256, 128 ,64, 32]\n",
    "    },\n",
    "    \"hoelder\":{\n",
    "        \"func\": hoelder,\n",
    "        \"bounds\": [[-10,10],]*2,\n",
    "        \"sizes\": [512, 256, 128 ,64],\n",
    "        \"branches\": 2\n",
    "    },\n",
    "    \"matyas\": {\n",
    "        \"func\": matyas,\n",
    "        \"bounds\": [[-10,10],]*2,\n",
    "        \"sizes\": [256, 128 ,64]\n",
    "    },\n",
    "    \"michalewicz\": {\n",
    "        \"func\": michalewicz,\n",
    "        \"bounds\": [[0,jnp.pi],]*2,\n",
    "        \"sizes\": [256, 128 ,64]\n",
    "    },\n",
    "    \"rosenbrock\": {\n",
    "        \"func\": rosenbrock,\n",
    "        \"bounds\": [[-5,10],]*2,\n",
    "        \"sizes\": [256, 128 ,64]\n",
    "    },\n",
    "    \"bukin\": {\n",
    "        \"func\": bukin,\n",
    "        \"bounds\": [[-15, -5],[-3,3]],\n",
    "        \"sizes\": [512, 256, 128, 64],\n",
    "        \"branches\": 2\n",
    "    }\n",
    "}"
   ],
   "id": "e77c0c07e0513910",
   "outputs": [],
   "execution_count": 3
  },
  {
   "metadata": {
    "ExecuteTime": {
     "end_time": "2025-06-17T02:30:39.198972Z",
     "start_time": "2025-06-17T02:30:35.053340Z"
    }
   },
   "cell_type": "code",
   "source": [
    "# 4) Train\n",
    "#for name, func_data in funcs.items():\n",
    "name = \"matyas\"\n",
    "func_data = funcs[name]\n",
    "print(\"-\"*40)\n",
    "print(f\"# {name}\")\n",
    "print(\"-\"*40)\n",
    "sizes = func_data[\"sizes\"]\n",
    "bounds = func_data[\"bounds\"]\n",
    "branches = func_data.get(\"branches\", 1)\n",
    "func = jax.vmap(lambda x: -func_data[\"func\"](x, affine_transform))\n",
    "model_def = ComplexPreference(in_dim=in_dim, factor=factor, sizes=sizes, branches=branches)\n",
    "results = train_on_func(\n",
    "    rng_key=key,\n",
    "    model_def=model_def,\n",
    "    func=func,\n",
    "    bounds=bounds,  # domain for both x and y\n",
    "    in_dim=in_dim,\n",
    "    factor=factor,\n",
    "    sizes=hidden_sizes,\n",
    "    num_pairs=50_000,\n",
    "    batch_size=512,\n",
    "    epochs=200,\n",
    "    lr=1e-3,\n",
    "    patience=20\n",
    ")\n",
    "learned_params = results['params']\n",
    "# 5) Evaluate\n",
    "eval_metrics = evaluate(\n",
    "    rng_key=key,\n",
    "    model_def=model_def,\n",
    "    params=learned_params,\n",
    "    func= func,\n",
    "    bounds=bounds,\n",
    "    in_dim=in_dim,\n",
    "    num_pairs=100_000,\n",
    "    batch_size=512\n",
    ")\n",
    "print(\"Eval metrics:\", eval_metrics)\n",
    "hparams = {\n",
    "    \"in_dim\": in_dim,\n",
    "    \"factor\": factor,\n",
    "    \"sizes\": sizes,  # e.g. [128, 64]\n",
    "    \"branches\": branches,\n",
    "}"
   ],
   "id": "ddba603aa2dbf06",
   "outputs": [
    {
     "name": "stdout",
     "output_type": "stream",
     "text": [
      "----------------------------------------\n",
      "# matyas\n",
      "----------------------------------------\n"
     ]
    },
    {
     "ename": "ValueError",
     "evalue": "Incompatible shapes for broadcasting: shapes=[(512, 2), (512,)]",
     "output_type": "error",
     "traceback": [
      "\u001B[0;31m---------------------------------------------------------------------------\u001B[0m",
      "\u001B[0;31mTypeError\u001B[0m                                 Traceback (most recent call last)",
      "File \u001B[0;32m~/anaconda3/envs/GPR/lib/python3.11/site-packages/jax/_src/lax/lax.py:218\u001B[0m, in \u001B[0;36m_broadcast_shapes_uncached\u001B[0;34m(*shapes)\u001B[0m\n\u001B[1;32m    217\u001B[0m \u001B[38;5;28;01mtry\u001B[39;00m:\n\u001B[0;32m--> 218\u001B[0m   \u001B[38;5;28;01mreturn\u001B[39;00m _try_broadcast_shapes(\u001B[38;5;241m*\u001B[39mrank_promoted_shapes, name\u001B[38;5;241m=\u001B[39m\u001B[38;5;124m'\u001B[39m\u001B[38;5;124mbroadcast_shapes\u001B[39m\u001B[38;5;124m'\u001B[39m)\n\u001B[1;32m    219\u001B[0m \u001B[38;5;28;01mexcept\u001B[39;00m \u001B[38;5;167;01mTypeError\u001B[39;00m \u001B[38;5;28;01mas\u001B[39;00m err:\n\u001B[1;32m    220\u001B[0m   \u001B[38;5;66;03m# Raise ValueError here for backward compatibility.\u001B[39;00m\n",
      "File \u001B[0;32m~/anaconda3/envs/GPR/lib/python3.11/site-packages/jax/_src/lax/lax.py:135\u001B[0m, in \u001B[0;36m_try_broadcast_shapes\u001B[0;34m(name, *shapes)\u001B[0m\n\u001B[1;32m    134\u001B[0m     \u001B[38;5;28;01melse\u001B[39;00m:\n\u001B[0;32m--> 135\u001B[0m       \u001B[38;5;28;01mraise\u001B[39;00m \u001B[38;5;167;01mTypeError\u001B[39;00m(\u001B[38;5;124mf\u001B[39m\u001B[38;5;124m'\u001B[39m\u001B[38;5;132;01m{\u001B[39;00mname\u001B[38;5;132;01m}\u001B[39;00m\u001B[38;5;124m got incompatible shapes for broadcasting: \u001B[39m\u001B[38;5;124m'\u001B[39m\n\u001B[1;32m    136\u001B[0m                       \u001B[38;5;124mf\u001B[39m\u001B[38;5;124m'\u001B[39m\u001B[38;5;132;01m{\u001B[39;00m\u001B[38;5;124m\"\u001B[39m\u001B[38;5;124m, \u001B[39m\u001B[38;5;124m\"\u001B[39m\u001B[38;5;241m.\u001B[39mjoin(\u001B[38;5;28mmap\u001B[39m(\u001B[38;5;28mstr\u001B[39m,\u001B[38;5;250m \u001B[39m\u001B[38;5;28mmap\u001B[39m(\u001B[38;5;28mtuple\u001B[39m,\u001B[38;5;250m \u001B[39mshapes)))\u001B[38;5;132;01m}\u001B[39;00m\u001B[38;5;124m.\u001B[39m\u001B[38;5;124m'\u001B[39m)\n\u001B[1;32m    137\u001B[0m \u001B[38;5;28;01mreturn\u001B[39;00m \u001B[38;5;28mtuple\u001B[39m(result_shape)\n",
      "\u001B[0;31mTypeError\u001B[0m: broadcast_shapes got incompatible shapes for broadcasting: (512, 2), (1, 512).",
      "\nThe above exception was the direct cause of the following exception:\n",
      "\u001B[0;31mValueError\u001B[0m                                Traceback (most recent call last)",
      "    \u001B[0;31m[... skipping hidden 1 frame]\u001B[0m\n",
      "File \u001B[0;32m~/anaconda3/envs/GPR/lib/python3.11/site-packages/jax/_src/util.py:294\u001B[0m, in \u001B[0;36mcache.<locals>.wrap.<locals>.wrapper\u001B[0;34m(*args, **kwargs)\u001B[0m\n\u001B[1;32m    293\u001B[0m   \u001B[38;5;28;01mreturn\u001B[39;00m f(\u001B[38;5;241m*\u001B[39margs, \u001B[38;5;241m*\u001B[39m\u001B[38;5;241m*\u001B[39mkwargs)\n\u001B[0;32m--> 294\u001B[0m \u001B[38;5;28;01mreturn\u001B[39;00m cached(config\u001B[38;5;241m.\u001B[39mtrace_context() \u001B[38;5;28;01mif\u001B[39;00m trace_context_in_key \u001B[38;5;28;01melse\u001B[39;00m _ignore(),\n\u001B[1;32m    295\u001B[0m               \u001B[38;5;241m*\u001B[39margs, \u001B[38;5;241m*\u001B[39m\u001B[38;5;241m*\u001B[39mkwargs)\n",
      "File \u001B[0;32m~/anaconda3/envs/GPR/lib/python3.11/site-packages/jax/_src/util.py:288\u001B[0m, in \u001B[0;36mcache.<locals>.wrap.<locals>.cached\u001B[0;34m(_, *args, **kwargs)\u001B[0m\n\u001B[1;32m    286\u001B[0m \u001B[38;5;129m@functools\u001B[39m\u001B[38;5;241m.\u001B[39mlru_cache(max_size)\n\u001B[1;32m    287\u001B[0m \u001B[38;5;28;01mdef\u001B[39;00m \u001B[38;5;21mcached\u001B[39m(_, \u001B[38;5;241m*\u001B[39margs, \u001B[38;5;241m*\u001B[39m\u001B[38;5;241m*\u001B[39mkwargs):\n\u001B[0;32m--> 288\u001B[0m   \u001B[38;5;28;01mreturn\u001B[39;00m f(\u001B[38;5;241m*\u001B[39margs, \u001B[38;5;241m*\u001B[39m\u001B[38;5;241m*\u001B[39mkwargs)\n",
      "File \u001B[0;32m~/anaconda3/envs/GPR/lib/python3.11/site-packages/jax/_src/lax/lax.py:202\u001B[0m, in \u001B[0;36m_broadcast_shapes_cached\u001B[0;34m(*shapes)\u001B[0m\n\u001B[1;32m    200\u001B[0m \u001B[38;5;129m@cache\u001B[39m()\n\u001B[1;32m    201\u001B[0m \u001B[38;5;28;01mdef\u001B[39;00m \u001B[38;5;21m_broadcast_shapes_cached\u001B[39m(\u001B[38;5;241m*\u001B[39mshapes: \u001B[38;5;28mtuple\u001B[39m[\u001B[38;5;28mint\u001B[39m, \u001B[38;5;241m.\u001B[39m\u001B[38;5;241m.\u001B[39m\u001B[38;5;241m.\u001B[39m]) \u001B[38;5;241m-\u001B[39m\u001B[38;5;241m>\u001B[39m \u001B[38;5;28mtuple\u001B[39m[\u001B[38;5;28mint\u001B[39m, \u001B[38;5;241m.\u001B[39m\u001B[38;5;241m.\u001B[39m\u001B[38;5;241m.\u001B[39m]:\n\u001B[0;32m--> 202\u001B[0m   \u001B[38;5;28;01mreturn\u001B[39;00m _broadcast_shapes_uncached(\u001B[38;5;241m*\u001B[39mshapes)\n",
      "File \u001B[0;32m~/anaconda3/envs/GPR/lib/python3.11/site-packages/jax/_src/lax/lax.py:221\u001B[0m, in \u001B[0;36m_broadcast_shapes_uncached\u001B[0;34m(*shapes)\u001B[0m\n\u001B[1;32m    219\u001B[0m \u001B[38;5;28;01mexcept\u001B[39;00m \u001B[38;5;167;01mTypeError\u001B[39;00m \u001B[38;5;28;01mas\u001B[39;00m err:\n\u001B[1;32m    220\u001B[0m   \u001B[38;5;66;03m# Raise ValueError here for backward compatibility.\u001B[39;00m\n\u001B[0;32m--> 221\u001B[0m   \u001B[38;5;28;01mraise\u001B[39;00m \u001B[38;5;167;01mValueError\u001B[39;00m(\u001B[38;5;124mf\u001B[39m\u001B[38;5;124m\"\u001B[39m\u001B[38;5;124mIncompatible shapes for broadcasting: shapes=\u001B[39m\u001B[38;5;132;01m{\u001B[39;00m\u001B[38;5;28mlist\u001B[39m(shapes)\u001B[38;5;132;01m}\u001B[39;00m\u001B[38;5;124m\"\u001B[39m) \u001B[38;5;28;01mfrom\u001B[39;00m \u001B[38;5;21;01merr\u001B[39;00m\n",
      "\u001B[0;31mValueError\u001B[0m: Incompatible shapes for broadcasting: shapes=[(512, 2), (512,)]",
      "\nDuring handling of the above exception, another exception occurred:\n",
      "\u001B[0;31mTypeError\u001B[0m                                 Traceback (most recent call last)",
      "    \u001B[0;31m[... skipping hidden 1 frame]\u001B[0m\n",
      "File \u001B[0;32m~/anaconda3/envs/GPR/lib/python3.11/site-packages/jax/_src/lax/lax.py:135\u001B[0m, in \u001B[0;36m_try_broadcast_shapes\u001B[0;34m(name, *shapes)\u001B[0m\n\u001B[1;32m    134\u001B[0m     \u001B[38;5;28;01melse\u001B[39;00m:\n\u001B[0;32m--> 135\u001B[0m       \u001B[38;5;28;01mraise\u001B[39;00m \u001B[38;5;167;01mTypeError\u001B[39;00m(\u001B[38;5;124mf\u001B[39m\u001B[38;5;124m'\u001B[39m\u001B[38;5;132;01m{\u001B[39;00mname\u001B[38;5;132;01m}\u001B[39;00m\u001B[38;5;124m got incompatible shapes for broadcasting: \u001B[39m\u001B[38;5;124m'\u001B[39m\n\u001B[1;32m    136\u001B[0m                       \u001B[38;5;124mf\u001B[39m\u001B[38;5;124m'\u001B[39m\u001B[38;5;132;01m{\u001B[39;00m\u001B[38;5;124m\"\u001B[39m\u001B[38;5;124m, \u001B[39m\u001B[38;5;124m\"\u001B[39m\u001B[38;5;241m.\u001B[39mjoin(\u001B[38;5;28mmap\u001B[39m(\u001B[38;5;28mstr\u001B[39m,\u001B[38;5;250m \u001B[39m\u001B[38;5;28mmap\u001B[39m(\u001B[38;5;28mtuple\u001B[39m,\u001B[38;5;250m \u001B[39mshapes)))\u001B[38;5;132;01m}\u001B[39;00m\u001B[38;5;124m.\u001B[39m\u001B[38;5;124m'\u001B[39m)\n\u001B[1;32m    137\u001B[0m \u001B[38;5;28;01mreturn\u001B[39;00m \u001B[38;5;28mtuple\u001B[39m(result_shape)\n",
      "\u001B[0;31mTypeError\u001B[0m: broadcast_shapes got incompatible shapes for broadcasting: (512, 2), (1, 512).",
      "\nThe above exception was the direct cause of the following exception:\n",
      "\u001B[0;31mValueError\u001B[0m                                Traceback (most recent call last)",
      "Cell \u001B[0;32mIn[4], line 13\u001B[0m\n\u001B[1;32m     11\u001B[0m func \u001B[38;5;241m=\u001B[39m jax\u001B[38;5;241m.\u001B[39mvmap(\u001B[38;5;28;01mlambda\u001B[39;00m x: \u001B[38;5;241m-\u001B[39mfunc_data[\u001B[38;5;124m\"\u001B[39m\u001B[38;5;124mfunc\u001B[39m\u001B[38;5;124m\"\u001B[39m](x, affine_transform))\n\u001B[1;32m     12\u001B[0m model_def \u001B[38;5;241m=\u001B[39m ComplexPreference(in_dim\u001B[38;5;241m=\u001B[39min_dim, factor\u001B[38;5;241m=\u001B[39mfactor, sizes\u001B[38;5;241m=\u001B[39msizes, branches\u001B[38;5;241m=\u001B[39mbranches)\n\u001B[0;32m---> 13\u001B[0m results \u001B[38;5;241m=\u001B[39m train_on_func(\n\u001B[1;32m     14\u001B[0m     rng_key\u001B[38;5;241m=\u001B[39mkey,\n\u001B[1;32m     15\u001B[0m     model_def\u001B[38;5;241m=\u001B[39mmodel_def,\n\u001B[1;32m     16\u001B[0m     func\u001B[38;5;241m=\u001B[39mfunc,\n\u001B[1;32m     17\u001B[0m     bounds\u001B[38;5;241m=\u001B[39mbounds,  \u001B[38;5;66;03m# domain for both x and y\u001B[39;00m\n\u001B[1;32m     18\u001B[0m     in_dim\u001B[38;5;241m=\u001B[39min_dim,\n\u001B[1;32m     19\u001B[0m     factor\u001B[38;5;241m=\u001B[39mfactor,\n\u001B[1;32m     20\u001B[0m     sizes\u001B[38;5;241m=\u001B[39mhidden_sizes,\n\u001B[1;32m     21\u001B[0m     num_pairs\u001B[38;5;241m=\u001B[39m\u001B[38;5;241m50_000\u001B[39m,\n\u001B[1;32m     22\u001B[0m     batch_size\u001B[38;5;241m=\u001B[39m\u001B[38;5;241m512\u001B[39m,\n\u001B[1;32m     23\u001B[0m     epochs\u001B[38;5;241m=\u001B[39m\u001B[38;5;241m200\u001B[39m,\n\u001B[1;32m     24\u001B[0m     lr\u001B[38;5;241m=\u001B[39m\u001B[38;5;241m1e-3\u001B[39m,\n\u001B[1;32m     25\u001B[0m     patience\u001B[38;5;241m=\u001B[39m\u001B[38;5;241m20\u001B[39m\n\u001B[1;32m     26\u001B[0m )\n\u001B[1;32m     27\u001B[0m learned_params \u001B[38;5;241m=\u001B[39m results[\u001B[38;5;124m'\u001B[39m\u001B[38;5;124mparams\u001B[39m\u001B[38;5;124m'\u001B[39m]\n\u001B[1;32m     28\u001B[0m \u001B[38;5;66;03m# 5) Evaluate\u001B[39;00m\n",
      "File \u001B[0;32m~/Desktop/S25 Files/MIE Lab/Code/Preference_Embeddings/JAXEmbeddings.py:283\u001B[0m, in \u001B[0;36mtrain_on_func\u001B[0;34m(rng_key, model_def, func, bounds, in_dim, factor, sizes, num_pairs, batch_size, epochs, lr, patience)\u001B[0m\n\u001B[1;32m    280\u001B[0m batch_count \u001B[38;5;241m=\u001B[39m \u001B[38;5;241m0\u001B[39m\n\u001B[1;32m    282\u001B[0m \u001B[38;5;28;01mfor\u001B[39;00m x_b, xp_b, lbl_b \u001B[38;5;129;01min\u001B[39;00m batch_gen:\n\u001B[0;32m--> 283\u001B[0m     params, opt_state, loss \u001B[38;5;241m=\u001B[39m train_step(params, opt_state, x_b, xp_b, lbl_b)\n\u001B[1;32m    284\u001B[0m     epoch_loss_accum \u001B[38;5;241m+\u001B[39m\u001B[38;5;241m=\u001B[39m \u001B[38;5;28mfloat\u001B[39m(loss)\n\u001B[1;32m    285\u001B[0m     batch_count \u001B[38;5;241m+\u001B[39m\u001B[38;5;241m=\u001B[39m \u001B[38;5;241m1\u001B[39m\n",
      "    \u001B[0;31m[... skipping hidden 14 frame]\u001B[0m\n",
      "File \u001B[0;32m~/Desktop/S25 Files/MIE Lab/Code/Preference_Embeddings/JAXEmbeddings.py:261\u001B[0m, in \u001B[0;36mtrain_on_func.<locals>.train_step\u001B[0;34m(params, opt_state, x_b, xp_b, lbl_b)\u001B[0m\n\u001B[1;32m    258\u001B[0m     bce \u001B[38;5;241m=\u001B[39m optax\u001B[38;5;241m.\u001B[39msigmoid_binary_cross_entropy(logits\u001B[38;5;241m=\u001B[39mlogits, labels\u001B[38;5;241m=\u001B[39mlbl_b)\n\u001B[1;32m    259\u001B[0m     \u001B[38;5;28;01mreturn\u001B[39;00m jnp\u001B[38;5;241m.\u001B[39mmean(bce)\n\u001B[0;32m--> 261\u001B[0m loss, grads \u001B[38;5;241m=\u001B[39m jax\u001B[38;5;241m.\u001B[39mvalue_and_grad(loss_fn)(params)\n\u001B[1;32m    262\u001B[0m updates, new_opt_state \u001B[38;5;241m=\u001B[39m optimizer\u001B[38;5;241m.\u001B[39mupdate(grads, opt_state, params)\n\u001B[1;32m    263\u001B[0m new_params \u001B[38;5;241m=\u001B[39m optax\u001B[38;5;241m.\u001B[39mapply_updates(params, updates)\n",
      "    \u001B[0;31m[... skipping hidden 16 frame]\u001B[0m\n",
      "File \u001B[0;32m~/Desktop/S25 Files/MIE Lab/Code/Preference_Embeddings/JAXEmbeddings.py:258\u001B[0m, in \u001B[0;36mtrain_on_func.<locals>.train_step.<locals>.loss_fn\u001B[0;34m(p)\u001B[0m\n\u001B[1;32m    256\u001B[0m logits \u001B[38;5;241m=\u001B[39m model_def\u001B[38;5;241m.\u001B[39mapply({\u001B[38;5;124m'\u001B[39m\u001B[38;5;124mparams\u001B[39m\u001B[38;5;124m'\u001B[39m: p}, x_b, xp_b)  \u001B[38;5;66;03m# shape [batch]\u001B[39;00m\n\u001B[1;32m    257\u001B[0m \u001B[38;5;66;03m# Use BCE with logits:\u001B[39;00m\n\u001B[0;32m--> 258\u001B[0m bce \u001B[38;5;241m=\u001B[39m optax\u001B[38;5;241m.\u001B[39msigmoid_binary_cross_entropy(logits\u001B[38;5;241m=\u001B[39mlogits, labels\u001B[38;5;241m=\u001B[39mlbl_b)\n\u001B[1;32m    259\u001B[0m \u001B[38;5;28;01mreturn\u001B[39;00m jnp\u001B[38;5;241m.\u001B[39mmean(bce)\n",
      "File \u001B[0;32m~/anaconda3/envs/GPR/lib/python3.11/site-packages/optax/losses/_classification.py:62\u001B[0m, in \u001B[0;36msigmoid_binary_cross_entropy\u001B[0;34m(logits, labels)\u001B[0m\n\u001B[1;32m     60\u001B[0m \u001B[38;5;66;03m# log(1 - sigmoid(x)) = log_sigmoid(-x), the latter more numerically stable\u001B[39;00m\n\u001B[1;32m     61\u001B[0m log_not_p \u001B[38;5;241m=\u001B[39m jax\u001B[38;5;241m.\u001B[39mnn\u001B[38;5;241m.\u001B[39mlog_sigmoid(\u001B[38;5;241m-\u001B[39mlogits)\n\u001B[0;32m---> 62\u001B[0m \u001B[38;5;28;01mreturn\u001B[39;00m \u001B[38;5;241m-\u001B[39mlabels \u001B[38;5;241m*\u001B[39m log_p \u001B[38;5;241m-\u001B[39m (\u001B[38;5;241m1.0\u001B[39m \u001B[38;5;241m-\u001B[39m labels) \u001B[38;5;241m*\u001B[39m log_not_p\n",
      "File \u001B[0;32m~/anaconda3/envs/GPR/lib/python3.11/site-packages/jax/_src/numpy/array_methods.py:1081\u001B[0m, in \u001B[0;36m_forward_operator_to_aval.<locals>.op\u001B[0;34m(self, *args)\u001B[0m\n\u001B[1;32m   1080\u001B[0m \u001B[38;5;28;01mdef\u001B[39;00m \u001B[38;5;21mop\u001B[39m(\u001B[38;5;28mself\u001B[39m, \u001B[38;5;241m*\u001B[39margs):\n\u001B[0;32m-> 1081\u001B[0m   \u001B[38;5;28;01mreturn\u001B[39;00m \u001B[38;5;28mgetattr\u001B[39m(\u001B[38;5;28mself\u001B[39m\u001B[38;5;241m.\u001B[39maval, \u001B[38;5;124mf\u001B[39m\u001B[38;5;124m\"\u001B[39m\u001B[38;5;124m_\u001B[39m\u001B[38;5;132;01m{\u001B[39;00mname\u001B[38;5;132;01m}\u001B[39;00m\u001B[38;5;124m\"\u001B[39m)(\u001B[38;5;28mself\u001B[39m, \u001B[38;5;241m*\u001B[39margs)\n",
      "File \u001B[0;32m~/anaconda3/envs/GPR/lib/python3.11/site-packages/jax/_src/numpy/array_methods.py:583\u001B[0m, in \u001B[0;36m_defer_to_unrecognized_arg.<locals>.deferring_binary_op\u001B[0;34m(self, other)\u001B[0m\n\u001B[1;32m    581\u001B[0m args \u001B[38;5;241m=\u001B[39m (other, \u001B[38;5;28mself\u001B[39m) \u001B[38;5;28;01mif\u001B[39;00m swap \u001B[38;5;28;01melse\u001B[39;00m (\u001B[38;5;28mself\u001B[39m, other)\n\u001B[1;32m    582\u001B[0m \u001B[38;5;28;01mif\u001B[39;00m \u001B[38;5;28misinstance\u001B[39m(other, _accepted_binop_types):\n\u001B[0;32m--> 583\u001B[0m   \u001B[38;5;28;01mreturn\u001B[39;00m binary_op(\u001B[38;5;241m*\u001B[39margs)\n\u001B[1;32m    584\u001B[0m \u001B[38;5;66;03m# Note: don't use isinstance here, because we don't want to raise for\u001B[39;00m\n\u001B[1;32m    585\u001B[0m \u001B[38;5;66;03m# subclasses, e.g. NamedTuple objects that may override operators.\u001B[39;00m\n\u001B[1;32m    586\u001B[0m \u001B[38;5;28;01mif\u001B[39;00m \u001B[38;5;28mtype\u001B[39m(other) \u001B[38;5;129;01min\u001B[39;00m _rejected_binop_types:\n",
      "File \u001B[0;32m~/anaconda3/envs/GPR/lib/python3.11/site-packages/jax/_src/numpy/ufunc_api.py:180\u001B[0m, in \u001B[0;36mufunc.__call__\u001B[0;34m(self, out, where, *args)\u001B[0m\n\u001B[1;32m    178\u001B[0m   \u001B[38;5;28;01mraise\u001B[39;00m \u001B[38;5;167;01mNotImplementedError\u001B[39;00m(\u001B[38;5;124mf\u001B[39m\u001B[38;5;124m\"\u001B[39m\u001B[38;5;124mwhere argument of \u001B[39m\u001B[38;5;132;01m{\u001B[39;00m\u001B[38;5;28mself\u001B[39m\u001B[38;5;132;01m}\u001B[39;00m\u001B[38;5;124m\"\u001B[39m)\n\u001B[1;32m    179\u001B[0m call \u001B[38;5;241m=\u001B[39m \u001B[38;5;28mself\u001B[39m\u001B[38;5;241m.\u001B[39m__static_props[\u001B[38;5;124m'\u001B[39m\u001B[38;5;124mcall\u001B[39m\u001B[38;5;124m'\u001B[39m] \u001B[38;5;129;01mor\u001B[39;00m \u001B[38;5;28mself\u001B[39m\u001B[38;5;241m.\u001B[39m_call_vectorized\n\u001B[0;32m--> 180\u001B[0m \u001B[38;5;28;01mreturn\u001B[39;00m call(\u001B[38;5;241m*\u001B[39margs)\n",
      "    \u001B[0;31m[... skipping hidden 14 frame]\u001B[0m\n",
      "File \u001B[0;32m~/anaconda3/envs/GPR/lib/python3.11/site-packages/jax/_src/numpy/ufuncs.py:1279\u001B[0m, in \u001B[0;36mmultiply\u001B[0;34m(x, y)\u001B[0m\n\u001B[1;32m   1252\u001B[0m \u001B[38;5;129m@binary_ufunc\u001B[39m(identity\u001B[38;5;241m=\u001B[39m\u001B[38;5;241m1\u001B[39m, reduce\u001B[38;5;241m=\u001B[39mreductions\u001B[38;5;241m.\u001B[39mprod, accumulate\u001B[38;5;241m=\u001B[39mreductions\u001B[38;5;241m.\u001B[39mcumprod, at\u001B[38;5;241m=\u001B[39m_multiply_at)\n\u001B[1;32m   1253\u001B[0m \u001B[38;5;28;01mdef\u001B[39;00m \u001B[38;5;21mmultiply\u001B[39m(x: ArrayLike, y: ArrayLike, \u001B[38;5;241m/\u001B[39m) \u001B[38;5;241m-\u001B[39m\u001B[38;5;241m>\u001B[39m Array:\n\u001B[1;32m   1254\u001B[0m \u001B[38;5;250m  \u001B[39m\u001B[38;5;124;03m\"\"\"Multiply two arrays element-wise.\u001B[39;00m\n\u001B[1;32m   1255\u001B[0m \n\u001B[1;32m   1256\u001B[0m \u001B[38;5;124;03m  JAX implementation of :obj:`numpy.multiply`. This is a universal function,\u001B[39;00m\n\u001B[0;32m   (...)\u001B[0m\n\u001B[1;32m   1277\u001B[0m \u001B[38;5;124;03m    Array([ 0, 10, 20, 30], dtype=int32)\u001B[39;00m\n\u001B[1;32m   1278\u001B[0m \u001B[38;5;124;03m  \"\"\"\u001B[39;00m\n\u001B[0;32m-> 1279\u001B[0m   x, y \u001B[38;5;241m=\u001B[39m promote_args(\u001B[38;5;124m\"\u001B[39m\u001B[38;5;124mmultiply\u001B[39m\u001B[38;5;124m\"\u001B[39m, x, y)\n\u001B[1;32m   1280\u001B[0m   \u001B[38;5;28;01mreturn\u001B[39;00m lax\u001B[38;5;241m.\u001B[39mmul(x, y) \u001B[38;5;28;01mif\u001B[39;00m x\u001B[38;5;241m.\u001B[39mdtype \u001B[38;5;241m!=\u001B[39m \u001B[38;5;28mbool\u001B[39m \u001B[38;5;28;01melse\u001B[39;00m lax\u001B[38;5;241m.\u001B[39mbitwise_and(x, y)\n",
      "File \u001B[0;32m~/anaconda3/envs/GPR/lib/python3.11/site-packages/jax/_src/numpy/util.py:228\u001B[0m, in \u001B[0;36mpromote_args\u001B[0;34m(fun_name, *args)\u001B[0m\n\u001B[1;32m    226\u001B[0m _check_no_float0s(fun_name, \u001B[38;5;241m*\u001B[39margs)\n\u001B[1;32m    227\u001B[0m check_for_prngkeys(fun_name, \u001B[38;5;241m*\u001B[39margs)\n\u001B[0;32m--> 228\u001B[0m \u001B[38;5;28;01mreturn\u001B[39;00m promote_shapes(fun_name, \u001B[38;5;241m*\u001B[39mpromote_dtypes(\u001B[38;5;241m*\u001B[39margs))\n",
      "File \u001B[0;32m~/anaconda3/envs/GPR/lib/python3.11/site-packages/jax/_src/numpy/util.py:64\u001B[0m, in \u001B[0;36mpromote_shapes\u001B[0;34m(fun_name, *args)\u001B[0m\n\u001B[1;32m     62\u001B[0m \u001B[38;5;28;01mif\u001B[39;00m config\u001B[38;5;241m.\u001B[39mnumpy_rank_promotion\u001B[38;5;241m.\u001B[39mvalue \u001B[38;5;241m!=\u001B[39m \u001B[38;5;124m\"\u001B[39m\u001B[38;5;124mallow\u001B[39m\u001B[38;5;124m\"\u001B[39m:\n\u001B[1;32m     63\u001B[0m   _rank_promotion_warning_or_error(fun_name, shapes)\n\u001B[0;32m---> 64\u001B[0m result_rank \u001B[38;5;241m=\u001B[39m \u001B[38;5;28mlen\u001B[39m(lax\u001B[38;5;241m.\u001B[39mbroadcast_shapes(\u001B[38;5;241m*\u001B[39mshapes))\n\u001B[1;32m     65\u001B[0m \u001B[38;5;28;01mreturn\u001B[39;00m [lax\u001B[38;5;241m.\u001B[39mbroadcast_to_rank(arg, result_rank) \u001B[38;5;28;01mfor\u001B[39;00m arg \u001B[38;5;129;01min\u001B[39;00m args]\n",
      "    \u001B[0;31m[... skipping hidden 1 frame]\u001B[0m\n",
      "File \u001B[0;32m~/anaconda3/envs/GPR/lib/python3.11/site-packages/jax/_src/lax/lax.py:221\u001B[0m, in \u001B[0;36m_broadcast_shapes_uncached\u001B[0;34m(*shapes)\u001B[0m\n\u001B[1;32m    218\u001B[0m   \u001B[38;5;28;01mreturn\u001B[39;00m _try_broadcast_shapes(\u001B[38;5;241m*\u001B[39mrank_promoted_shapes, name\u001B[38;5;241m=\u001B[39m\u001B[38;5;124m'\u001B[39m\u001B[38;5;124mbroadcast_shapes\u001B[39m\u001B[38;5;124m'\u001B[39m)\n\u001B[1;32m    219\u001B[0m \u001B[38;5;28;01mexcept\u001B[39;00m \u001B[38;5;167;01mTypeError\u001B[39;00m \u001B[38;5;28;01mas\u001B[39;00m err:\n\u001B[1;32m    220\u001B[0m   \u001B[38;5;66;03m# Raise ValueError here for backward compatibility.\u001B[39;00m\n\u001B[0;32m--> 221\u001B[0m   \u001B[38;5;28;01mraise\u001B[39;00m \u001B[38;5;167;01mValueError\u001B[39;00m(\u001B[38;5;124mf\u001B[39m\u001B[38;5;124m\"\u001B[39m\u001B[38;5;124mIncompatible shapes for broadcasting: shapes=\u001B[39m\u001B[38;5;132;01m{\u001B[39;00m\u001B[38;5;28mlist\u001B[39m(shapes)\u001B[38;5;132;01m}\u001B[39;00m\u001B[38;5;124m\"\u001B[39m) \u001B[38;5;28;01mfrom\u001B[39;00m \u001B[38;5;21;01merr\u001B[39;00m\n",
      "\u001B[0;31mValueError\u001B[0m: Incompatible shapes for broadcasting: shapes=[(512, 2), (512,)]"
     ]
    }
   ],
   "execution_count": 4
  },
  {
   "metadata": {
    "ExecuteTime": {
     "end_time": "2025-06-17T02:30:39.200986Z",
     "start_time": "2025-06-17T02:21:50.718707Z"
    }
   },
   "cell_type": "code",
   "source": [
    "for dict_key in eval_metrics:\n",
    "    #cast to json friendly types\n",
    "    if dict_key == \"confusion_matrix\":\n",
    "        eval_metrics[dict_key] = eval_metrics[dict_key].tolist()\n",
    "    else:\n",
    "        eval_metrics[dict_key] = float(eval_metrics[dict_key])\n",
    "func_metadata ={\n",
    "    \"hparams\": hparams,\n",
    "    \"eval_metrics\": eval_metrics,\n",
    "}\n",
    "#write hyperparams + eval results for later reference\n",
    "hparam_path = f\"../Embedding_Model_Weights/{name}.json\"\n",
    "with open(hparam_path, \"w\") as fp:\n",
    "    json.dump(func_metadata, fp, indent=2)\n",
    "#Write actual func params\n",
    "param_bytes = serialization.to_bytes(learned_params)\n",
    "with open(f\"../Embedding_Model_Weights/{name}.msgpack\", \"wb\") as f:\n",
    "    f.write(param_bytes)"
   ],
   "id": "9868a52a7ea73402",
   "outputs": [],
   "execution_count": 6
  },
  {
   "metadata": {
    "ExecuteTime": {
     "end_time": "2025-06-17T02:30:39.201240Z",
     "start_time": "2025-06-17T02:21:51.522704Z"
    }
   },
   "cell_type": "code",
   "source": [
    "func_metadata ={\n",
    "    \"hparams\": hparams,\n",
    "    \"eval_metrics\": eval_metrics,\n",
    "}\n",
    "with open(hparam_path, \"w\") as fp:\n",
    "    json.dump(func_metadata, fp, indent=2)"
   ],
   "id": "2269c1bbaac09ce4",
   "outputs": [],
   "execution_count": 7
  },
  {
   "metadata": {
    "ExecuteTime": {
     "end_time": "2025-06-17T02:30:39.201383Z",
     "start_time": "2025-06-17T02:21:39.141928Z"
    }
   },
   "cell_type": "code",
   "source": "",
   "id": "6e04fd5721c69cf5",
   "outputs": [],
   "execution_count": null
  }
 ],
 "metadata": {
  "kernelspec": {
   "display_name": "Python 3",
   "language": "python",
   "name": "python3"
  },
  "language_info": {
   "codemirror_mode": {
    "name": "ipython",
    "version": 2
   },
   "file_extension": ".py",
   "mimetype": "text/x-python",
   "name": "python",
   "nbconvert_exporter": "python",
   "pygments_lexer": "ipython2",
   "version": "2.7.6"
  }
 },
 "nbformat": 4,
 "nbformat_minor": 5
}
