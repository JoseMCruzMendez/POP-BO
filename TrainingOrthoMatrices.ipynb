{
 "cells": [
  {
   "cell_type": "code",
   "id": "81b2d13e27af825a",
   "metadata": {
    "ExecuteTime": {
     "end_time": "2025-05-12T21:44:36.119693Z",
     "start_time": "2025-05-12T21:44:31.060695Z"
    }
   },
   "source": [
    "import torch\n",
    "import torch.nn as nn\n",
    "from torch.nn.utils import parametrizations\n",
    "from torch.utils.data import Dataset, DataLoader\n",
    "from torch.optim.lr_scheduler import LambdaLR, CosineAnnealingWarmRestarts\n",
    "from sklearn.metrics import (\n",
    "    accuracy_score,\n",
    "    precision_recall_fscore_support,\n",
    "    roc_auc_score,\n",
    "    confusion_matrix,\n",
    ")"
   ],
   "outputs": [],
   "execution_count": 2
  },
  {
   "metadata": {
    "ExecuteTime": {
     "end_time": "2025-05-13T04:15:24.581097Z",
     "start_time": "2025-05-13T04:15:24.570334Z"
    }
   },
   "cell_type": "code",
   "source": [
    "class Embedding(nn.Module):\n",
    "    def __init__(self, in_dim, n):\n",
    "        super().__init__()\n",
    "        self.embedding = torch.nn.Sequential(\n",
    "            nn.Linear(in_dim, 4*n),\n",
    "            nn.Hardswish(),\n",
    "            nn.Linear(4*n, 2*n),\n",
    "            nn.Hardswish(),\n",
    "            nn.Linear(2*n, n)\n",
    "        )\n",
    "    def forward(self, x):\n",
    "        return self.embedding(x)\n",
    "class PreferenceEmbedding(nn.Module):\n",
    "    def __init__(self, in_dim):\n",
    "        \"\"\"\n",
    "        Args:\n",
    "          n (int): dimension of input vectors x, x'\n",
    "          J (Tensor[n,n]): constant matrix in the bilinear form\n",
    "        \"\"\"\n",
    "        super().__init__()\n",
    "        n = in_dim * 4 #embeddings dimension must be even\n",
    "        J = torch.eye(n//2).kron(torch.tensor([[0, -1], [1, 0]]))\n",
    "        # 1) Declare an unconstrained weight\n",
    "        self.embedding = Embedding(in_dim, n)\n",
    "        self.U = nn.Parameter(torch.randn(n, n))\n",
    "        # 2) Apply an orthogonal re-parametrization\n",
    "        parametrizations.orthogonal(self, 'U')\n",
    "        # 3) Store J as a buffer\n",
    "        self.register_buffer('J', J)\n",
    "\n",
    "    def forward(self, x, x_prime):\n",
    "        \"\"\"Confirms whether x_prime is preferred to x.\"\"\"\n",
    "        # x, x_prime: [B, in_dim]\n",
    "        x       = self.embedding(x)       # [B, 2*in_dim]\n",
    "        x_prime = self.embedding(x_prime)   # [B, 2*in_dim]\n",
    "\n",
    "        # U: [n, n] where n = 2*in_dim\n",
    "        # apply U to each row of x and x_prime:\n",
    "        Ux   = x       @ self.U.T          # [B, n]\n",
    "        Uxp  = x_prime @ self.U.T          # [B, n]\n",
    "\n",
    "        # compute batch of scalars w[i] = Uxp[i]^T J Ux[i]\n",
    "        # J is [n, n]\n",
    "        JUx = Ux @ self.J                     # [B, n]\n",
    "        w   = (JUx * Uxp).sum(dim=1)          # [B]\n",
    "        return torch.sigmoid(w)               # [B]\n",
    "\n",
    "\n"
   ],
   "id": "initial_id",
   "outputs": [],
   "execution_count": 51
  },
  {
   "metadata": {
    "ExecuteTime": {
     "end_time": "2025-05-13T04:15:26.900400Z",
     "start_time": "2025-05-13T04:15:26.885637Z"
    }
   },
   "cell_type": "code",
   "source": [
    "# 2) Quadrant‐comparison dataset\n",
    "class QuadPairDataset(Dataset):\n",
    "    def __init__(self, num_pairs):\n",
    "        self.num_pairs = num_pairs\n",
    "        # sample points once; you could re-sample each epoch if you like\n",
    "        self.X = torch.randn(num_pairs, 2)\n",
    "        self.Y = torch.randn(num_pairs, 2)\n",
    "        # precompute labels\n",
    "        self.labels = torch.zeros(num_pairs)\n",
    "        for i in range(num_pairs):\n",
    "            qx  = self.quadrant(self.X[i])\n",
    "            qy  = self.quadrant(self.Y[i])\n",
    "            # define cycle Q1>Q2>Q3>Q4>Q1\n",
    "            # map: Q1=0, Q2=1, Q3=2, Q4=3\n",
    "            #delta = (qy - qx) % 4\n",
    "            # x > y if delta in {1,2}? Actually we want Qx > Qy if\n",
    "            # moving from x to y you go forward less than 2 steps\n",
    "            self.labels[i] = 1.0 if qx==3 and qy ==0 else qx < qy\n",
    "\n",
    "    @staticmethod\n",
    "    def quadrant(pt):\n",
    "        x, y = pt\n",
    "        if   x>=0 and y>=0: return 0   # Q1\n",
    "        elif x < 0 <= y: return 1   # Q2\n",
    "        elif x<0  and y<0 : return 2   # Q3\n",
    "        else:                return 3   # Q4\n",
    "\n",
    "    def __len__(self):\n",
    "        return self.num_pairs\n",
    "\n",
    "    def __getitem__(self, idx):\n",
    "        return self.X[idx], self.Y[idx], self.labels[idx]\n",
    "\n",
    "import torch\n",
    "from torch.utils.data import Dataset\n",
    "\n",
    "class ReshuffleQuadDataset(Dataset):\n",
    "    def __init__(self, num_pairs, pool_size=10000, seed=None):\n",
    "        \"\"\"\n",
    "        num_pairs:   nominal __len__ of the dataset (how many pairs you draw per epoch)\n",
    "        pool_size:   how many base points to keep around\n",
    "        seed:        optional RNG seed for reproducibility\n",
    "        \"\"\"\n",
    "        super().__init__()\n",
    "        self.num_pairs = num_pairs\n",
    "        self.pool_size = pool_size\n",
    "        if seed is not None:\n",
    "            torch.manual_seed(seed)\n",
    "\n",
    "        # sample a fixed pool of points once\n",
    "        # shape: [pool_size, 2]\n",
    "        self.points = torch.randn(pool_size, 2)\n",
    "\n",
    "    @staticmethod\n",
    "    def quadrant(pt):\n",
    "        x, y = pt\n",
    "        if   x >= 0 and y >= 0: return 0   # Q1\n",
    "        elif x <  0 and y >= 0: return 1   # Q2\n",
    "        elif x <  0 and y <  0: return 2   # Q3\n",
    "        else:                   return 3   # Q4\n",
    "\n",
    "    @staticmethod\n",
    "    def label_from_quadrants(qx, qy):\n",
    "        # your cycle Q1>Q2>Q3>Q4>Q1\n",
    "        # return 1.0 if x > y else 0.0\n",
    "        if qx == 3 and qy == 0:\n",
    "            return 1.0\n",
    "        return 1.0 if qx < qy else 0.0\n",
    "\n",
    "    def __len__(self):\n",
    "        return self.num_pairs\n",
    "\n",
    "    def __getitem__(self, idx):\n",
    "        # ignore idx — we just draw a random pair each call\n",
    "        i = torch.randint(0, self.pool_size, (1,)).item()\n",
    "        j = torch.randint(0, self.pool_size, (1,)).item()\n",
    "        # if you prefer no repeats, you can:\n",
    "        #  while j == i:\n",
    "        #      j = torch.randint(0, self.pool_size, (1,)).item()\n",
    "\n",
    "        x       = self.points[i]\n",
    "        x_prime = self.points[j]\n",
    "\n",
    "        qx = self.quadrant(x)\n",
    "        qy = self.quadrant(x_prime)\n",
    "        label = self.label_from_quadrants(qx, qy)\n",
    "\n",
    "        return x, x_prime, label\n",
    "\n",
    "class FuncDataset(Dataset):\n",
    "    def __init__(self, num_pairs, func, minimize = True, in_dim = 2, seed=None):\n",
    "        self.num_pairs = num_pairs\n",
    "        # sample points once; you could re-sample each epoch if you like\n",
    "        if seed is not None:\n",
    "            torch.manual_seed(seed)\n",
    "        self.X = torch.randn(num_pairs, in_dim)\n",
    "        self.Y = torch.randn(num_pairs, in_dim)\n",
    "        # precompute labels\n",
    "        self.labels = torch.zeros(num_pairs)\n",
    "        self.func = func\n",
    "        for i in range(num_pairs):\n",
    "            qx  = self.func(self.X[i])\n",
    "            qy  = self.func(self.Y[i])\n",
    "            # define cycle Q1>Q2>Q3>Q4>Q1\n",
    "            # map: Q1=0, Q2=1, Q3=2, Q4=3\n",
    "            #delta = (qy - qx) % 4\n",
    "            # x > y if delta in {1,2}? Actually we want Qx > Qy if\n",
    "            # moving from x to y you go forward less than 2 steps\n",
    "            self.labels[i] = qx < qy if minimize else qx > qy\n",
    "    def __len__(self):\n",
    "        return self.num_pairs\n",
    "\n",
    "    def __getitem__(self, idx):\n",
    "        return self.X[idx], self.Y[idx], self.labels[idx]\n"
   ],
   "id": "391da4a5edd6dc9d",
   "outputs": [],
   "execution_count": 52
  },
  {
   "metadata": {
    "ExecuteTime": {
     "end_time": "2025-05-13T04:15:30.722419Z",
     "start_time": "2025-05-13T04:15:30.716447Z"
    }
   },
   "cell_type": "code",
   "source": [
    "def evaluate(model, test_loader, device='cpu'):\n",
    "    model.eval()\n",
    "    all_preds = []\n",
    "    all_scores = []\n",
    "    all_targets = []\n",
    "\n",
    "    with torch.no_grad():\n",
    "        for x, x_prime, y_true in test_loader:\n",
    "            x, x_prime, y_true = x.to(device), x_prime.to(device), y_true.to(device)\n",
    "            y_prob = model(x, x_prime)       # [B] float probabilities\n",
    "            y_pred = (y_prob > 0.5).long()   # [B] binary predictions\n",
    "\n",
    "            all_scores.append(y_prob.cpu())\n",
    "            all_preds.append(y_pred.cpu())\n",
    "            all_targets.append(y_true.cpu().long())\n",
    "\n",
    "    # flatten lists\n",
    "    scores  = torch.cat(all_scores).numpy()\n",
    "    preds   = torch.cat(all_preds).numpy()\n",
    "    targets = torch.cat(all_targets).numpy()\n",
    "\n",
    "    # basic metrics\n",
    "    acc = accuracy_score(targets, preds)\n",
    "    prec, rec, f1, _ = precision_recall_fscore_support(\n",
    "        targets, preds, average='binary'\n",
    "    )\n",
    "    cm = confusion_matrix(targets, preds)\n",
    "\n",
    "    # optional: ROC-AUC\n",
    "    try:\n",
    "        auc = roc_auc_score(targets, scores)\n",
    "    except ValueError:\n",
    "        auc = float('nan')  # e.g. if one class missing\n",
    "\n",
    "    print(f\"Accuracy : {acc:.4f}\")\n",
    "    print(f\"Precision: {prec:.4f}\")\n",
    "    print(f\"Recall   : {rec:.4f}\")\n",
    "    print(f\"F1-score : {f1:.4f}\")\n",
    "    print(f\"ROC-AUC  : {auc:.4f}\")\n",
    "    print(\"Confusion Matrix:\")\n",
    "    print(cm)\n",
    "\n",
    "    return {\n",
    "        'accuracy': acc,\n",
    "        'precision': prec,\n",
    "        'recall': rec,\n",
    "        'f1': f1,\n",
    "        'roc_auc': auc,\n",
    "        'confusion_matrix': cm,\n",
    "    }"
   ],
   "id": "fcd111d5b8830387",
   "outputs": [],
   "execution_count": 53
  },
  {
   "metadata": {
    "ExecuteTime": {
     "end_time": "2025-05-13T04:15:30.910774Z",
     "start_time": "2025-05-13T04:15:30.887527Z"
    }
   },
   "cell_type": "code",
   "source": [
    "# 6) Model, optimizer, loss\n",
    "model = PreferenceEmbedding(in_dim=2)"
   ],
   "id": "bb3109312f04b5ab",
   "outputs": [],
   "execution_count": 54
  },
  {
   "metadata": {
    "ExecuteTime": {
     "end_time": "2025-05-13T04:15:36.472538Z",
     "start_time": "2025-05-13T04:15:32.884800Z"
    }
   },
   "cell_type": "code",
   "source": [
    "batch_size = 64\n",
    "lr         = 1e-1\n",
    "epochs     = 500\n",
    "# 5) DataLoader\n",
    "dataset = FuncDataset(num_pairs=50_000, func = lambda x: 100 * torch.abs(torch.sqrt(x[1] - 0.01*x[0])) + 0.01 * torch.abs(x[0] + 10))\n",
    "loader  = DataLoader(dataset, batch_size=len(dataset), shuffle=True)\n",
    "total_steps = epochs * len(loader)\n",
    "warmup_steps = int(0.1 * total_steps)\n",
    "\n",
    "#optimizer = torch.optim.LBFGS(model.parameters(), lr=lr, max_iter=50)\n",
    "optimizer = torch.optim.Adam(model.parameters(), lr=lr)\n",
    "def lr_lambda(step):\n",
    "    if step < warmup_steps:\n",
    "        return float(step) / float(max(1, warmup_steps))\n",
    "    else:\n",
    "        # cosine decay after warmup\n",
    "        progress = float(step - warmup_steps) / float(max(1, total_steps - warmup_steps))\n",
    "        return 0.5 * (1.0 + torch.cos(torch.tensor(torch.pi * progress)))\n",
    "scheduler = LambdaLR(optimizer, lr_lambda)\n",
    "loss_fn = nn.BCELoss()\n",
    "def closure():\n",
    "    optimizer.zero_grad()\n",
    "    preds = model(X, Xp)\n",
    "    loss  = loss_fn(preds, Y)\n",
    "    loss.backward()\n",
    "    return loss\n"
   ],
   "id": "d0f73bf2026fd21f",
   "outputs": [],
   "execution_count": 55
  },
  {
   "metadata": {
    "ExecuteTime": {
     "end_time": "2025-05-13T04:20:59.762255Z",
     "start_time": "2025-05-13T04:15:36.485927Z"
    }
   },
   "cell_type": "code",
   "source": [
    "patience = 10\n",
    "threshold = 1e-10\n",
    "best_loss = torch.inf\n",
    "bad_steps = 10\n",
    "optimizer = torch.optim.Adam(model.parameters(), lr=lr)\n",
    "scheduler = LambdaLR(optimizer, lr_lambda)\n",
    "for epoch in range(1, epochs):\n",
    "    # pull the entire dataset in one batch\n",
    "    X, Xp, Y = next(iter(loader))\n",
    "    #X, Xp, Y = X.to(device), Xp.to(device), Y.to(device)\n",
    "\n",
    "    optimizer.zero_grad()\n",
    "    preds = model(X, Xp)\n",
    "    loss  = loss_fn(preds, Y)\n",
    "    loss.backward()\n",
    "    optimizer.step()\n",
    "    scheduler.step()\n",
    "\n",
    "    # recompute for logging\n",
    "    with torch.no_grad():\n",
    "        loss_val = loss_fn(model(X, Xp), Y).item()\n",
    "        if loss_val < best_loss - threshold:\n",
    "            best_loss = loss_val\n",
    "            bad_steps = 0\n",
    "        else:\n",
    "            bad_steps += 1\n",
    "    if bad_steps >= patience:\n",
    "        pass\n",
    "    if epoch % 10 == 0:\n",
    "        print(f\"Epoch {epoch:03d} — loss: {loss_val:.6f}\")"
   ],
   "id": "d5378cd60fd19be5",
   "outputs": [
    {
     "name": "stdout",
     "output_type": "stream",
     "text": [
      "Epoch 010 — loss: 0.682885\n",
      "Epoch 020 — loss: 0.636989\n",
      "Epoch 030 — loss: 0.613953\n",
      "Epoch 040 — loss: 0.592428\n",
      "Epoch 050 — loss: 0.649253\n",
      "Epoch 060 — loss: 0.580834\n",
      "Epoch 070 — loss: 0.556883\n",
      "Epoch 080 — loss: 0.544193\n",
      "Epoch 090 — loss: 0.542075\n",
      "Epoch 100 — loss: 0.540675\n",
      "Epoch 110 — loss: 0.534487\n",
      "Epoch 120 — loss: 0.532277\n",
      "Epoch 130 — loss: 0.551060\n",
      "Epoch 140 — loss: 0.540675\n",
      "Epoch 150 — loss: 0.534384\n",
      "Epoch 160 — loss: 0.530531\n",
      "Epoch 170 — loss: 0.529010\n",
      "Epoch 180 — loss: 0.528269\n",
      "Epoch 190 — loss: 0.527244\n",
      "Epoch 200 — loss: 0.526681\n",
      "Epoch 210 — loss: 0.526341\n",
      "Epoch 220 — loss: 0.552621\n",
      "Epoch 230 — loss: 1.139943\n",
      "Epoch 240 — loss: 0.636734\n",
      "Epoch 250 — loss: 0.576384\n",
      "Epoch 260 — loss: 0.546818\n",
      "Epoch 270 — loss: 0.536866\n",
      "Epoch 280 — loss: 0.532781\n",
      "Epoch 290 — loss: 0.529748\n",
      "Epoch 300 — loss: 0.528576\n",
      "Epoch 310 — loss: 0.528424\n",
      "Epoch 320 — loss: 0.528308\n",
      "Epoch 330 — loss: 0.529826\n",
      "Epoch 340 — loss: 0.527622\n",
      "Epoch 350 — loss: 0.527218\n",
      "Epoch 360 — loss: 0.526680\n",
      "Epoch 370 — loss: 0.526496\n",
      "Epoch 380 — loss: 0.526383\n",
      "Epoch 390 — loss: 0.526303\n",
      "Epoch 400 — loss: 0.526242\n",
      "Epoch 410 — loss: 0.526196\n",
      "Epoch 420 — loss: 0.526162\n",
      "Epoch 430 — loss: 0.526136\n",
      "Epoch 440 — loss: 0.526116\n",
      "Epoch 450 — loss: 0.526102\n",
      "Epoch 460 — loss: 0.526092\n",
      "Epoch 470 — loss: 0.526086\n",
      "Epoch 480 — loss: 0.526083\n",
      "Epoch 490 — loss: 0.526082\n"
     ]
    }
   ],
   "execution_count": 56
  },
  {
   "metadata": {
    "ExecuteTime": {
     "end_time": "2025-05-13T04:14:25.934243Z",
     "start_time": "2025-05-13T04:14:24.634064Z"
    }
   },
   "cell_type": "code",
   "source": "res = evaluate(model, loader)",
   "id": "be297a0b351ad380",
   "outputs": [
    {
     "name": "stdout",
     "output_type": "stream",
     "text": [
      "Accuracy : 0.6343\n",
      "Precision: 0.2581\n",
      "Recall   : 0.9995\n",
      "F1-score : 0.4103\n",
      "ROC-AUC  : 0.9994\n",
      "Confusion Matrix:\n",
      "[[25353 18283]\n",
      " [    3  6361]]\n"
     ]
    }
   ],
   "execution_count": 50
  },
  {
   "metadata": {
    "ExecuteTime": {
     "end_time": "2025-05-11T00:34:21.736670Z",
     "start_time": "2025-05-11T00:34:21.731194Z"
    }
   },
   "cell_type": "code",
   "source": "torch.save(model.state_dict(), 'model.pt')",
   "id": "4765516100540977",
   "outputs": [],
   "execution_count": 67
  },
  {
   "metadata": {
    "ExecuteTime": {
     "end_time": "2025-05-11T00:34:25.936565Z",
     "start_time": "2025-05-11T00:34:25.931713Z"
    }
   },
   "cell_type": "code",
   "source": "loss_val",
   "id": "c4e20f53b5269fa9",
   "outputs": [
    {
     "data": {
      "text/plain": [
       "0.2851998209953308"
      ]
     },
     "execution_count": 68,
     "metadata": {},
     "output_type": "execute_result"
    }
   ],
   "execution_count": 68
  },
  {
   "metadata": {},
   "cell_type": "code",
   "outputs": [],
   "execution_count": null,
   "source": "",
   "id": "200e5f34d92ee7fc"
  }
 ],
 "metadata": {
  "kernelspec": {
   "display_name": "Python 3",
   "language": "python",
   "name": "python3"
  },
  "language_info": {
   "codemirror_mode": {
    "name": "ipython",
    "version": 2
   },
   "file_extension": ".py",
   "mimetype": "text/x-python",
   "name": "python",
   "nbconvert_exporter": "python",
   "pygments_lexer": "ipython2",
   "version": "2.7.6"
  }
 },
 "nbformat": 4,
 "nbformat_minor": 5
}
